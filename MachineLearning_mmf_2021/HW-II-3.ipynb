{
 "cells": [
  {
   "cell_type": "markdown",
   "id": "stone-italic",
   "metadata": {},
   "source": [
    "# Практическая работа II - 3"
   ]
  },
  {
   "cell_type": "markdown",
   "id": "driven-facial",
   "metadata": {},
   "source": [
    "## Задания\n",
    "\n",
    "1. Для данных Nails segmentation объедините пары изображение-маска\n",
    "2. Выведите по очереди пары с помощью OpenCV эти пары (переключение по нажатию клавиши)\n",
    "3. Выделите контуры на масках и отрисуйте их на изображениях\n",
    "4. Воспроизведите видеофайл с помощью OpenCV в градациях серого"
   ]
  },
  {
   "cell_type": "code",
   "execution_count": 1,
   "id": "sustainable-baker",
   "metadata": {},
   "outputs": [],
   "source": [
    "# 1\n",
    "\n",
    "import os\n",
    "import sys\n",
    "import cv2\n",
    "import numpy as np\n",
    "\n",
    "nails_path = \"data/nails/nails_segmentation\"\n",
    "images_path = nails_path + \"/images\"\n",
    "labels_path = nails_path + \"/labels\"\n",
    "\n",
    "images_dir = os.listdir(images_path)\n",
    "labels_dir = os.listdir(labels_path)\n",
    "\n",
    "images_filename = [\"/\".join([images_path, img]) for img in images_dir]\n",
    "labels_filename = [\"/\".join([labels_path, img]) for img in labels_dir]\n",
    "\n",
    "data_filename = list(zip(images_filename, labels_filename))\n",
    "data = [(cv2.imread(train[0]), cv2.imread(train[1]))\n",
    "        for train in data_filename]"
   ]
  },
  {
   "cell_type": "code",
   "execution_count": 2,
   "id": "human-patch",
   "metadata": {},
   "outputs": [],
   "source": [
    "# 2\n",
    "\n",
    "cv2.namedWindow(\"Image-Label\")\n",
    "for pair in data:\n",
    "    cv2.imshow(\"Image-Label\", np.concatenate((pair[0], pair[1]), axis=1))\n",
    "    k = cv2.waitKey(100000)\n",
    "    if k == 'w':  # toggle current image\n",
    "        continue\n",
    "    elif k == 27:  #escape key\n",
    "        break\n",
    "\n",
    "cv2.destroyAllWindows()"
   ]
  },
  {
   "cell_type": "code",
   "execution_count": 3,
   "id": "later-cursor",
   "metadata": {},
   "outputs": [],
   "source": [
    "# 3\n",
    "\n",
    "import matplotlib.pyplot as plt\n",
    "\n",
    "marked_data = [np.copy(pair[0]) for pair in data]\n",
    "i = 0\n",
    "for pair in data:\n",
    "    imgray = cv2.cvtColor(pair[1], cv2.COLOR_BGR2GRAY)\n",
    "    ret, thresh = cv2.threshold(imgray, 127, 255, 0)\n",
    "    contours, hierarchy = cv2.findContours(thresh, cv2.RETR_TREE, cv2.CHAIN_APPROX_SIMPLE)\n",
    "    cv2.drawContours(marked_data[i], contours, -1, (0,255,0), 3)\n",
    "    i += 1\n",
    "\n",
    "cv2.namedWindow(\"Image-MarkedImage\")\n",
    "for i in range(len(data)):\n",
    "    cv2.imshow(\"Image-MarkedImage\", np.concatenate((data[i][0], marked_data[i]), axis=1))\n",
    "    k = cv2.waitKey(-1)\n",
    "    if k == 'w':  # toggle current image\n",
    "        continue\n",
    "    elif k == 27:  #escape key\n",
    "        break\n",
    "\n",
    "cv2.destroyAllWindows()"
   ]
  },
  {
   "cell_type": "code",
   "execution_count": 9,
   "metadata": {},
   "outputs": [],
   "source": [
    "# 4\n",
    "\n",
    "cap = cv2.VideoCapture(0)\n",
    "VideoOn = True\n",
    "\n",
    "while(VideoOn):\n",
    "    # Capture frame-by-frame\n",
    "    ret, frame = cap.read()\n",
    "\n",
    "    gray = cv2.cvtColor(frame, cv2.COLOR_BGR2GRAY)\n",
    "\n",
    "    # Display the resulting frame\n",
    "    cv2.imshow('frame',gray)\n",
    "    if cv2.waitKey(1) & 0xFF == ord('q'):\n",
    "        break\n",
    "\n",
    "cap.release()\n",
    "cv2.destroyAllWindows()"
   ]
  }
 ],
 "metadata": {
  "kernelspec": {
   "display_name": "Python 3",
   "language": "python",
   "name": "python3"
  },
  "varInspector": {
   "cols": {
    "lenName": 16,
    "lenType": 16,
    "lenVar": 40
   },
   "kernels_config": {
    "python": {
     "delete_cmd_postfix": "",
     "delete_cmd_prefix": "del ",
     "library": "var_list.py",
     "varRefreshCmd": "print(var_dic_list())"
    },
    "r": {
     "delete_cmd_postfix": ") ",
     "delete_cmd_prefix": "rm(",
     "library": "var_list.r",
     "varRefreshCmd": "cat(var_dic_list()) "
    }
   },
   "types_to_exclude": [
    "module",
    "function",
    "builtin_function_or_method",
    "instance",
    "_Feature"
   ],
   "window_display": false
  }
 },
 "nbformat": 4,
 "nbformat_minor": 5
}