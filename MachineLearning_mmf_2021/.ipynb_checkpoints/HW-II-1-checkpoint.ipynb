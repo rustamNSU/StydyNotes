{
 "cells": [
  {
   "cell_type": "markdown",
   "id": "progressive-shepherd",
   "metadata": {},
   "source": [
    "# Практическая работа II - 1"
   ]
  },
  {
   "cell_type": "markdown",
   "id": "regulation-lounge",
   "metadata": {},
   "source": [
    "## Задания\n",
    "\n",
    "1. Скачать датасет [Nails segmentation](https://www.kaggle.com/vpapenko/nails-segmentation#1eecab90-1a92-43a7-b952-0204384e1fae.jpg). Составить список из пар (<имя изображения>, <маска>) для всех данных, используя функцию os.listdir() или glob.glob().  \n",
    "2. Создать генератор, который на каждой итерации возвращает пару списков из заданного количества (аргумент функции) изображений и масок к ним (итератор должен перемешивать примеры).  \n",
    "3. Добавить в генератор случайную аугментацию (каждая применяется случайно). После преобразований все изображения должны иметь одинаковый размер. *Обратите внимание, что большинство преобразований должны применяться одинаково к изображению и маске*\n",
    "    1. Поворот на случайный угол\n",
    "    2. Отражение по вертикали, горизонтали\n",
    "    3. Вырезание части изображения\n",
    "    4. Размытие  \n",
    "   "
   ]
  },
  {
   "cell_type": "code",
   "execution_count": 112,
   "id": "grand-bulgarian",
   "metadata": {},
   "outputs": [],
   "source": [
    "# 1\n",
    "\n",
    "import os\n",
    "import sys\n",
    "\n",
    "nails_path = \"data/nails/nails_segmentation\"\n",
    "images_path = nails_path + \"/images\"\n",
    "labels_path = nails_path + \"/labels\"\n",
    "\n",
    "images_dir = os.listdir(images_path)\n",
    "labels_dir = os.listdir(labels_path)\n",
    "\n",
    "images = [\"/\".join([images_path,img]) for img in images_dir]\n",
    "labels = [\"/\".join([labels_path,img]) for img in labels_dir]\n",
    "\n",
    "data = list(zip(images, labels))"
   ]
  },
  {
   "cell_type": "code",
   "execution_count": 113,
   "id": "after-injury",
   "metadata": {},
   "outputs": [
    {
     "name": "stdout",
     "output_type": "stream",
     "text": [
      "(['data/nails/nails_segmentation/images/d639e532-db67-11e8-9658-0242ac1c0002.jpg'], ['data/nails/nails_segmentation/labels/d639e532-db67-11e8-9658-0242ac1c0002.jpg'])\n",
      "(['data/nails/nails_segmentation/images/4c478f3e-e402-11e8-97db-0242ac1c0002.jpg'], ['data/nails/nails_segmentation/labels/4c478f3e-e402-11e8-97db-0242ac1c0002.jpg'])\n"
     ]
    }
   ],
   "source": [
    "# 2 (return path and file, in task 3 return image)\n",
    "\n",
    "import random\n",
    "from operator import itemgetter\n",
    "\n",
    "def random_data_iterator(n: int, list1, list2):\n",
    "    # хотел сгенерировать исключение, но не разобрался ((\n",
    "    # if n > len(list1) or len(list1) != len(list2):\n",
    "    \n",
    "    indices = range(len(list1))\n",
    "    while True:\n",
    "        ind = random.sample(indices, n)\n",
    "        images = []\n",
    "        labels = []\n",
    "        for i in ind:\n",
    "            images.append(list1[i])\n",
    "            labels.append(list2[i])\n",
    "        yield (images, labels)\n",
    "        \n",
    "\n",
    "fit = random_data_iterator(1, images, labels)\n",
    "for i in range(2):\n",
    "    print(next(fit))"
   ]
  },
  {
   "cell_type": "code",
   "execution_count": 114,
   "id": "automated-agriculture",
   "metadata": {},
   "outputs": [
    {
     "name": "stdout",
     "output_type": "stream",
     "text": [
      "max_h = 1079 , max_w = 1079\n",
      "min_h = 168 , min_w = 194\n"
     ]
    }
   ],
   "source": [
    "import cv2\n",
    "\n",
    "max_h = 0\n",
    "max_w = 0\n",
    "min_h = 1079\n",
    "min_w = 1079\n",
    "\n",
    "for img in images:\n",
    "    im = cv2.imread(img)\n",
    "    shape = im.shape\n",
    "    if max_h < shape[0]:\n",
    "        max_h = shape[0]\n",
    "    if max_w < shape[1]:\n",
    "        max_w = shape[1]\n",
    "    if min_h > shape[0]:\n",
    "        min_h = shape[0]\n",
    "    if min_w > shape[1]:\n",
    "        min_w = shape[1]\n",
    "\n",
    "print(\"max_h =\", max_h, \", max_w =\", max_w)\n",
    "print(\"min_h =\", min_h, \", min_w =\", min_w)"
   ]
  },
  {
   "cell_type": "code",
   "execution_count": 117,
   "id": "fifteen-distribution",
   "metadata": {},
   "outputs": [
    {
     "data": {
      "image/png": "[encoded data removed]",
      "text/plain": [
       "<Figure size 432x288 with 10 Axes>"
      ]
     },
     "metadata": {
      "needs_background": "light"
     },
     "output_type": "display_data"
    }
   ],
   "source": [
    "import numpy as np\n",
    "import matplotlib.pyplot as plt\n",
    "\n",
    "\n",
    "def random_rotate_image(image, label, max_angle=180):\n",
    "    image_center = tuple(np.array(image.shape[1::-1]) / 2)\n",
    "    angle = np.random.randint(-max_angle, max_angle)\n",
    "    M = cv2.getRotationMatrix2D(image_center, angle, 1.0)\n",
    "    rot_img = cv2.warpAffine(image, M, image.shape[1::-1], flags=cv2.INTER_LINEAR)\n",
    "    rot_lab = cv2.warpAffine(label, M, image.shape[1::-1], flags=cv2.INTER_LINEAR)\n",
    "    return (rot_img, rot_lab)\n",
    "\n",
    "\n",
    "def get_random_crop(img, lbl, height, width):\n",
    "    \"\"\"Return a random crop of image\"\"\"\n",
    "    max_x = img.shape[1] - width\n",
    "    max_y = img.shape[0] - height\n",
    "\n",
    "    x = np.random.randint(0, max_x)\n",
    "    y = np.random.randint(0, max_y)\n",
    "    return (img[y: y + height, x: x + width], \n",
    "           lbl[y: y + height, x: x + width])\n",
    "\n",
    "\n",
    "def augmentation_data_iterator(\n",
    "        n: int, \n",
    "        list1, \n",
    "        list2, \n",
    "        height=128, \n",
    "        width=128, \n",
    "        blur=True,\n",
    "        blur_size=10,\n",
    "        rotation=True,\n",
    "        max_rotation_angle=180,\n",
    "        mirror=True\n",
    "):\n",
    "    rotation_center = (height/2, width/2) \n",
    "    fit = random_data_iterator(n, list1, list2)\n",
    "    while True:\n",
    "        data = next(fit)\n",
    "        images = []\n",
    "        labels = []\n",
    "        for i in range(n):\n",
    "            img = cv2.imread(data[0][i])\n",
    "            lbl = cv2.imread(data[1][i])\n",
    "            \n",
    "            # Random rotate\n",
    "            if rotation:\n",
    "                img, lab = random_rotate_image(img, lbl, max_rotation_angle)\n",
    "            \n",
    "            # Random choosing to flip horizontally\n",
    "            if random.choice([True, False]):\n",
    "                img = np.flip(img, axis=1)\n",
    "                lbl = np.flip(lbl, axis=1)\n",
    "            \n",
    "            # Random choosing to flip verticalli\n",
    "            if random.choice([True, False]):\n",
    "                img = np.flip(img, axis=0)\n",
    "                lbl = np.flip(lbl, axis=0)\n",
    "                \n",
    "            # Random blur\n",
    "            if blur:\n",
    "                blur_coef = np.random.randint(1, blur_size)\n",
    "                img = cv2.blur(img, (blur_coef, blur_coef))\n",
    "                lbl = cv2.blur(lbl, (blur_coef, blur_coef))\n",
    "            \n",
    "            # Randomply croping height x width piece from image \n",
    "            img, lbl = get_random_crop(img, lbl, height, width)\n",
    "            \n",
    "            images.append(img)\n",
    "            labels.append(lbl)\n",
    "        yield (images, labels)\n",
    "        \n",
    "\n",
    "n = 5      \n",
    "fit = augmentation_data_iterator(n, images, labels)\n",
    "gen_data = next(fit)\n",
    "\n",
    "for i in range(n):\n",
    "    plt.subplot(n, 2, 2*i+1)\n",
    "    plt.imshow(gen_data[0][i])\n",
    "    \n",
    "    plt.subplot(n, 2, 2*i+2)\n",
    "    plt.imshow(gen_data[1][i])\n",
    "    \n",
    "            \n",
    "plt.show()\n",
    "    "
   ]
  },
  {
   "cell_type": "code",
   "execution_count": null,
   "id": "physical-alpha",
   "metadata": {},
   "outputs": [],
   "source": []
  }
 ],
 "metadata": {
  "kernelspec": {
   "display_name": "Python 3",
   "language": "python",
   "name": "python3"
  },
  "language_info": {
   "codemirror_mode": {
    "name": "ipython",
    "version": 3
   },
   "file_extension": ".py",
   "mimetype": "text/x-python",
   "name": "python",
   "nbconvert_exporter": "python",
   "pygments_lexer": "ipython3",
   "version": "3.8.8"
  },
  "varInspector": {
   "cols": {
    "lenName": 16,
    "lenType": 16,
    "lenVar": 40
   },
   "kernels_config": {
    "python": {
     "delete_cmd_postfix": "",
     "delete_cmd_prefix": "del ",
     "library": "var_list.py",
     "varRefreshCmd": "print(var_dic_list())"
    },
    "r": {
     "delete_cmd_postfix": ") ",
     "delete_cmd_prefix": "rm(",
     "library": "var_list.r",
     "varRefreshCmd": "cat(var_dic_list()) "
    }
   },
   "types_to_exclude": [
    "module",
    "function",
    "builtin_function_or_method",
    "instance",
    "_Feature"
   ],
   "window_display": false
  }
 },
 "nbformat": 4,
 "nbformat_minor": 5
}
