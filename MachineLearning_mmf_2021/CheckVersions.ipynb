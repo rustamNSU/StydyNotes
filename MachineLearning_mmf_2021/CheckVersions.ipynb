{
 "cells": [
  {
   "cell_type": "markdown",
   "id": "broke-counter",
   "metadata": {},
   "source": [
    "# Check availability all needed libraries"
   ]
  },
  {
   "cell_type": "code",
   "execution_count": 6,
   "id": "unlike-database",
   "metadata": {},
   "outputs": [
    {
     "name": "stdout",
     "output_type": "stream",
     "text": [
      "scipy: 1.6.2\n",
      "numpy: 1.20.2\n",
      "matplotlib: 3.4.1\n",
      "pandas: 1.2.3\n",
      "sklearn: 0.24.1\n",
      "tensorflow: 2.4.1\n",
      "keras: 2.4.3\n",
      "tensorboard: 2.4.1\n",
      "cv2: 4.5.1\n"
     ]
    }
   ],
   "source": [
    "import scipy\n",
    "print('scipy: %s' % scipy.__version__)\n",
    "\n",
    "import numpy\n",
    "print('numpy: %s' % numpy.__version__)\n",
    "\n",
    "import matplotlib\n",
    "print('matplotlib: %s' % matplotlib.__version__)\n",
    "\n",
    "import pandas\n",
    "print('pandas: %s' % pandas.__version__)\n",
    "\n",
    "import sklearn\n",
    "print('sklearn: %s' % sklearn.__version__)\n",
    "\n",
    "import tensorflow\n",
    "print('tensorflow: %s' % tensorflow.__version__)\n",
    "\n",
    "import keras\n",
    "print('keras: %s' % keras.__version__)\n",
    "\n",
    "import tensorboard\n",
    "print('tensorboard: %s' % tensorboard.__version__)\n",
    "\n",
    "import cv2\n",
    "\n",
    "print('cv2: %s' % cv2.__version__)\n"
   ]
  },
  {
   "cell_type": "code",
   "execution_count": 4,
   "id": "narrative-mainstream",
   "metadata": {},
   "outputs": [],
   "source": []
  }
 ],
 "metadata": {
  "kernelspec": {
   "display_name": "Python 3",
   "language": "python",
   "name": "python3"
  },
  "language_info": {
   "codemirror_mode": {
    "name": "ipython",
    "version": 3
   },
   "file_extension": ".py",
   "mimetype": "text/x-python",
   "name": "python",
   "nbconvert_exporter": "python",
   "pygments_lexer": "ipython3",
   "version": "3.8.8-final"
  },
  "varInspector": {
   "cols": {
    "lenName": 16,
    "lenType": 16,
    "lenVar": 40
   },
   "kernels_config": {
    "python": {
     "delete_cmd_postfix": "",
     "delete_cmd_prefix": "del ",
     "library": "var_list.py",
     "varRefreshCmd": "print(var_dic_list())"
    },
    "r": {
     "delete_cmd_postfix": ") ",
     "delete_cmd_prefix": "rm(",
     "library": "var_list.r",
     "varRefreshCmd": "cat(var_dic_list()) "
    }
   },
   "types_to_exclude": [
    "module",
    "function",
    "builtin_function_or_method",
    "instance",
    "_Feature"
   ],
   "window_display": false
  }
 },
 "nbformat": 4,
 "nbformat_minor": 5
}