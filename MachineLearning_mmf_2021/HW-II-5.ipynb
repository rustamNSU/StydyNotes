{
 "cells": [
  {
   "cell_type": "markdown",
   "metadata": {
    "collapsed": true,
    "pycharm": {
     "name": "#%% md\n"
    }
   },
   "source": [
    "# Практическая работа II - 5"
   ]
  },
  {
   "cell_type": "markdown",
   "source": [
    "# Задание\n",
    "1. Подготовьте данные для word2vec по одной из недавно прочитанных книг, удалив все символы, кроме букв и пробелов и обучите модель. Посмотрите результат.\n",
    "2. Для обучения на нефтяных скважин добавьте во входные данные информацию со столбцов Gas, Water (т.е. размер x_data будет (440, 12, 3)) и обучите новую модель. Выход содержит Liquid, Gas и Water (для дальнейшего предсказания). Графики с результатами только для Liquid.\n",
    "3. Из этого же текста возьмите небольшой фрагмент, разбейте на предложения с одинаковым числом символов. Каждый символ предложения закодируйте с помощью one hot encoding. В итоге у вас должен получиться массив размера (n_sentences, sentence_len, encoding_size).\n",
    "4. На полученных в п.3 задании обучение модель RNN для предсказания следующего символа. Посмотрите результат при последовательной генерации.\n",
    "5. \\* (не обязательное) На полученных в п.1 задании обучение модель RNN для предсказания следующего слова. Посмотрите результат при последовательной генерации."
   ],
   "metadata": {
    "collapsed": false
   }
  },
  {
   "cell_type": "code",
   "execution_count": 1,
   "outputs": [],
   "source": [
    "import re\n",
    "\n",
    "import numpy as np\n",
    "\n",
    "book_name = \"data/svoa-komnata.txt\"\n",
    "with open(book_name) as book:\n",
    "    book_sentences = re.split(r\"[.!?](?!$)\", book.read())"
   ],
   "metadata": {
    "collapsed": false,
    "pycharm": {
     "name": "#%%\n"
    }
   }
  },
  {
   "cell_type": "code",
   "execution_count": 2,
   "outputs": [
    {
     "output_type": "stream",
     "name": "stdout",
     "text": [
      "1658 предложений\n"
     ]
    }
   ],
   "source": [
    "import string\n",
    "\n",
    "sentences = []\n",
    "max_sentence_len = 12\n",
    "for sentence in book_sentences:\n",
    "    sentence = sentence.replace(\"\\n\", \" \")\n",
    "    sentence = sentence.translate(str.maketrans('', '', string.punctuation))\n",
    "    sentences.append(sentence)\n",
    "\n",
    "sentences = [[word for word in sent.lower().split()[:max_sentence_len]]\n",
    "             for sent in sentences]\n",
    "print(len(sentences), 'предложений')"
   ],
   "metadata": {
    "collapsed": false,
    "pycharm": {
     "name": "#%%\n"
    }
   }
  },
  {
   "cell_type": "code",
   "execution_count": 3,
   "outputs": [],
   "source": [
    "from gensim.models import Word2Vec\n",
    "\n",
    "sentences_model = Word2Vec(sentences=sentences, vector_size=100, window=5, min_count=1, epochs=100)"
   ],
   "metadata": {
    "collapsed": false,
    "pycharm": {
     "name": "#%%\n"
    }
   }
  },
  {
   "cell_type": "code",
   "execution_count": 4,
   "outputs": [
    {
     "output_type": "stream",
     "name": "stdout",
     "text": [
      "6268 100\n"
     ]
    }
   ],
   "source": [
    "pretrained_weights = sentences_model.wv.vectors\n",
    "vocab_size, embedding_size = pretrained_weights.shape\n",
    "print(vocab_size, embedding_size)"
   ],
   "metadata": {
    "collapsed": false,
    "pycharm": {
     "name": "#%%\n"
    }
   }
  },
  {
   "cell_type": "code",
   "execution_count": 5,
   "outputs": [
    {
     "output_type": "stream",
     "name": "stdout",
     "text": [
      "Похожие слова:\n  комната -> 1 (0.98), своя (0.98), вулф (0.96), негодование (0.95), профессоров (0.95), i (0.95), название (0.95), html (0.95)\n  я -> взглянув (0.85), пейзаж (0.83), открывая (0.82), здешний (0.82), было… (0.79), штука (0.78), загадочная (0.77), затаить (0.77)\n  еда -> навсегда (0.99), приживалов (0.99), одежда (0.99), толстякхозяин (0.99), слюной (0.98), брызжа (0.98), соусов (0.98), сладких (0.98)\n  деньги -> выигранные (0.87), власть (0.83), следовательно (0.82), непростые (0.81), виноваты (0.81), псу (0.81), производстве (0.81), притихло (0.80)\n  женщина -> класса (0.80), садилась (0.78), решала (0.78), среднего (0.77), выходила (0.77), прочитает (0.76), скромная (0.75), семьи (0.75)\n  свобода -> вражды (0.87), полнота (0.86), радость (0.85), моста (0.85), горящего (0.85), вовсе (0.85), нечего (0.85), неба (0.84)\n"
     ]
    }
   ],
   "source": [
    "print('Похожие слова:')\n",
    "for word in ['комната', 'я', 'еда', 'деньги', 'женщина', 'свобода']:\n",
    "    most_similar = ', '.join('%s (%.2f)' % (similar, dist) for similar, dist in sentences_model.wv.most_similar(word)[:8])\n",
    "    print('  %s -> %s' % (word, most_similar))\n"
   ],
   "metadata": {
    "collapsed": false,
    "pycharm": {
     "name": "#%%\n"
    }
   }
  },
  {
   "cell_type": "code",
   "execution_count": 6,
   "outputs": [
    {
     "output_type": "execute_result",
     "data": {
      "text/plain": [
       "             API  Year  Month  Liquid    Gas  RatioGasOil  Water  \\\n",
       "0  5005072170100  2014     11    9783  11470     1.172442  10558   \n",
       "1  5005072170100  2014     12   24206  26476     1.093778   5719   \n",
       "2  5005072170100  2015      1   20449  26381     1.290088   2196   \n",
       "3  5005072170100  2015      2    6820  10390     1.523460    583   \n",
       "4  5005072170100  2015      3    7349   7005     0.953191    122   \n",
       "\n",
       "   PercentWater  DaysOn              _LastUpdate  \n",
       "0      1.079219      14  2016-04-06 17:20:05.757  \n",
       "1      0.236264      31  2016-04-06 17:20:05.757  \n",
       "2      0.107389      31  2016-04-06 17:20:05.757  \n",
       "3      0.085484      28  2016-04-06 17:20:05.757  \n",
       "4      0.016601      13  2016-06-16 14:07:33.203  "
      ],
      "text/html": "<div>\n<style scoped>\n    .dataframe tbody tr th:only-of-type {\n        vertical-align: middle;\n    }\n\n    .dataframe tbody tr th {\n        vertical-align: top;\n    }\n\n    .dataframe thead th {\n        text-align: right;\n    }\n</style>\n<table border=\"1\" class=\"dataframe\">\n  <thead>\n    <tr style=\"text-align: right;\">\n      <th></th>\n      <th>API</th>\n      <th>Year</th>\n      <th>Month</th>\n      <th>Liquid</th>\n      <th>Gas</th>\n      <th>RatioGasOil</th>\n      <th>Water</th>\n      <th>PercentWater</th>\n      <th>DaysOn</th>\n      <th>_LastUpdate</th>\n    </tr>\n  </thead>\n  <tbody>\n    <tr>\n      <th>0</th>\n      <td>5005072170100</td>\n      <td>2014</td>\n      <td>11</td>\n      <td>9783</td>\n      <td>11470</td>\n      <td>1.172442</td>\n      <td>10558</td>\n      <td>1.079219</td>\n      <td>14</td>\n      <td>2016-04-06 17:20:05.757</td>\n    </tr>\n    <tr>\n      <th>1</th>\n      <td>5005072170100</td>\n      <td>2014</td>\n      <td>12</td>\n      <td>24206</td>\n      <td>26476</td>\n      <td>1.093778</td>\n      <td>5719</td>\n      <td>0.236264</td>\n      <td>31</td>\n      <td>2016-04-06 17:20:05.757</td>\n    </tr>\n    <tr>\n      <th>2</th>\n      <td>5005072170100</td>\n      <td>2015</td>\n      <td>1</td>\n      <td>20449</td>\n      <td>26381</td>\n      <td>1.290088</td>\n      <td>2196</td>\n      <td>0.107389</td>\n      <td>31</td>\n      <td>2016-04-06 17:20:05.757</td>\n    </tr>\n    <tr>\n      <th>3</th>\n      <td>5005072170100</td>\n      <td>2015</td>\n      <td>2</td>\n      <td>6820</td>\n      <td>10390</td>\n      <td>1.523460</td>\n      <td>583</td>\n      <td>0.085484</td>\n      <td>28</td>\n      <td>2016-04-06 17:20:05.757</td>\n    </tr>\n    <tr>\n      <th>4</th>\n      <td>5005072170100</td>\n      <td>2015</td>\n      <td>3</td>\n      <td>7349</td>\n      <td>7005</td>\n      <td>0.953191</td>\n      <td>122</td>\n      <td>0.016601</td>\n      <td>13</td>\n      <td>2016-06-16 14:07:33.203</td>\n    </tr>\n  </tbody>\n</table>\n</div>"
     },
     "metadata": {},
     "execution_count": 6
    }
   ],
   "source": [
    "# 2. Для обучения на нефтяных скважин добавьте во входные данные информацию со столбцов Gas, Water (т.е. размер x_data будет (440, 12, 3)) и обучите новую модель. Выход содержит Liquid, Gas и Water (для дальнейшего предсказания). Графики с результатами только для Liquid.\n",
    "import pandas as pd\n",
    "import numpy as np\n",
    "from tensorflow.keras.layers import Dense, LSTM, Input\n",
    "from keras.models import Model\n",
    "\n",
    "df = pd.read_csv('./data/production.csv')\n",
    "df.head()"
   ],
   "metadata": {
    "collapsed": false,
    "pycharm": {
     "name": "#%%\n"
    }
   }
  },
  {
   "cell_type": "code",
   "execution_count": 7,
   "outputs": [
    {
     "output_type": "stream",
     "name": "stderr",
     "text": [
      "<ipython-input-7-aa95e4268298>:1: FutureWarning: Indexing with multiple keys (implicitly converted to a tuple of keys) will be deprecated, use a list instead.\n  production = df.groupby('API')['Liquid', 'Gas', 'Water'].apply(lambda df_: df_.reset_index(drop=True))\n"
     ]
    },
    {
     "output_type": "execute_result",
     "data": {
      "text/plain": [
       "                 Liquid    Gas  Water\n",
       "API                                  \n",
       "5005072170100 0    9783  11470  10558\n",
       "              1   24206  26476   5719\n",
       "              2   20449  26381   2196\n",
       "              3    6820  10390    583\n",
       "              4    7349   7005    122"
      ],
      "text/html": "<div>\n<style scoped>\n    .dataframe tbody tr th:only-of-type {\n        vertical-align: middle;\n    }\n\n    .dataframe tbody tr th {\n        vertical-align: top;\n    }\n\n    .dataframe thead th {\n        text-align: right;\n    }\n</style>\n<table border=\"1\" class=\"dataframe\">\n  <thead>\n    <tr style=\"text-align: right;\">\n      <th></th>\n      <th></th>\n      <th>Liquid</th>\n      <th>Gas</th>\n      <th>Water</th>\n    </tr>\n    <tr>\n      <th>API</th>\n      <th></th>\n      <th></th>\n      <th></th>\n      <th></th>\n    </tr>\n  </thead>\n  <tbody>\n    <tr>\n      <th rowspan=\"5\" valign=\"top\">5005072170100</th>\n      <th>0</th>\n      <td>9783</td>\n      <td>11470</td>\n      <td>10558</td>\n    </tr>\n    <tr>\n      <th>1</th>\n      <td>24206</td>\n      <td>26476</td>\n      <td>5719</td>\n    </tr>\n    <tr>\n      <th>2</th>\n      <td>20449</td>\n      <td>26381</td>\n      <td>2196</td>\n    </tr>\n    <tr>\n      <th>3</th>\n      <td>6820</td>\n      <td>10390</td>\n      <td>583</td>\n    </tr>\n    <tr>\n      <th>4</th>\n      <td>7349</td>\n      <td>7005</td>\n      <td>122</td>\n    </tr>\n  </tbody>\n</table>\n</div>"
     },
     "metadata": {},
     "execution_count": 7
    }
   ],
   "source": [
    "production = df.groupby('API')['Liquid', 'Gas', 'Water'].apply(lambda df_: df_.reset_index(drop=True))\n",
    "production.head()"
   ],
   "metadata": {
    "collapsed": false,
    "pycharm": {
     "name": "#%%\n"
    }
   }
  },
  {
   "cell_type": "code",
   "execution_count": 8,
   "outputs": [
    {
     "output_type": "execute_result",
     "data": {
      "text/plain": [
       "              Liquid                                                       \\\n",
       "                  0      1      2     3     4      5      6      7     8    \n",
       "API                                                                         \n",
       "5005072170100   9783  24206  20449  6820  7349  16552  13844  10655  6135   \n",
       "5123377130000   2341   4689   3056  1979  2037   2260   1961   1549  1364   \n",
       "5123379280000   6326   6405   6839  6584  4775   3917   3840   3031  3137   \n",
       "5123379400000   8644  13977   9325  6445  5326   4538   3403   2534  2685   \n",
       "5123385820100   1753   4402   1187  1204  1176   1523   1169    782   634   \n",
       "\n",
       "                      ... Water                                               \n",
       "                  9   ...    14   15   16   17   18   19   20   21   22   23  \n",
       "API                   ...                                                     \n",
       "5005072170100  11105  ...   357  270  242  236  250  200  241  215  194  188  \n",
       "5123377130000   1380  ...   193  118  111  111   91  100  137  109  113   55  \n",
       "5123379280000   2669  ...   218  256  203  207  225  180  194  202  182  208  \n",
       "5123379400000   2597  ...   197  156  193  226  135  190  162  181  189   34  \n",
       "5123385820100    597  ...   124    0    0    0    0    0  119  568  521  289  \n",
       "\n",
       "[5 rows x 72 columns]"
      ],
      "text/html": "<div>\n<style scoped>\n    .dataframe tbody tr th:only-of-type {\n        vertical-align: middle;\n    }\n\n    .dataframe tbody tr th {\n        vertical-align: top;\n    }\n\n    .dataframe thead tr th {\n        text-align: left;\n    }\n\n    .dataframe thead tr:last-of-type th {\n        text-align: right;\n    }\n</style>\n<table border=\"1\" class=\"dataframe\">\n  <thead>\n    <tr>\n      <th></th>\n      <th colspan=\"10\" halign=\"left\">Liquid</th>\n      <th>...</th>\n      <th colspan=\"10\" halign=\"left\">Water</th>\n    </tr>\n    <tr>\n      <th></th>\n      <th>0</th>\n      <th>1</th>\n      <th>2</th>\n      <th>3</th>\n      <th>4</th>\n      <th>5</th>\n      <th>6</th>\n      <th>7</th>\n      <th>8</th>\n      <th>9</th>\n      <th>...</th>\n      <th>14</th>\n      <th>15</th>\n      <th>16</th>\n      <th>17</th>\n      <th>18</th>\n      <th>19</th>\n      <th>20</th>\n      <th>21</th>\n      <th>22</th>\n      <th>23</th>\n    </tr>\n    <tr>\n      <th>API</th>\n      <th></th>\n      <th></th>\n      <th></th>\n      <th></th>\n      <th></th>\n      <th></th>\n      <th></th>\n      <th></th>\n      <th></th>\n      <th></th>\n      <th></th>\n      <th></th>\n      <th></th>\n      <th></th>\n      <th></th>\n      <th></th>\n      <th></th>\n      <th></th>\n      <th></th>\n      <th></th>\n      <th></th>\n    </tr>\n  </thead>\n  <tbody>\n    <tr>\n      <th>5005072170100</th>\n      <td>9783</td>\n      <td>24206</td>\n      <td>20449</td>\n      <td>6820</td>\n      <td>7349</td>\n      <td>16552</td>\n      <td>13844</td>\n      <td>10655</td>\n      <td>6135</td>\n      <td>11105</td>\n      <td>...</td>\n      <td>357</td>\n      <td>270</td>\n      <td>242</td>\n      <td>236</td>\n      <td>250</td>\n      <td>200</td>\n      <td>241</td>\n      <td>215</td>\n      <td>194</td>\n      <td>188</td>\n    </tr>\n    <tr>\n      <th>5123377130000</th>\n      <td>2341</td>\n      <td>4689</td>\n      <td>3056</td>\n      <td>1979</td>\n      <td>2037</td>\n      <td>2260</td>\n      <td>1961</td>\n      <td>1549</td>\n      <td>1364</td>\n      <td>1380</td>\n      <td>...</td>\n      <td>193</td>\n      <td>118</td>\n      <td>111</td>\n      <td>111</td>\n      <td>91</td>\n      <td>100</td>\n      <td>137</td>\n      <td>109</td>\n      <td>113</td>\n      <td>55</td>\n    </tr>\n    <tr>\n      <th>5123379280000</th>\n      <td>6326</td>\n      <td>6405</td>\n      <td>6839</td>\n      <td>6584</td>\n      <td>4775</td>\n      <td>3917</td>\n      <td>3840</td>\n      <td>3031</td>\n      <td>3137</td>\n      <td>2669</td>\n      <td>...</td>\n      <td>218</td>\n      <td>256</td>\n      <td>203</td>\n      <td>207</td>\n      <td>225</td>\n      <td>180</td>\n      <td>194</td>\n      <td>202</td>\n      <td>182</td>\n      <td>208</td>\n    </tr>\n    <tr>\n      <th>5123379400000</th>\n      <td>8644</td>\n      <td>13977</td>\n      <td>9325</td>\n      <td>6445</td>\n      <td>5326</td>\n      <td>4538</td>\n      <td>3403</td>\n      <td>2534</td>\n      <td>2685</td>\n      <td>2597</td>\n      <td>...</td>\n      <td>197</td>\n      <td>156</td>\n      <td>193</td>\n      <td>226</td>\n      <td>135</td>\n      <td>190</td>\n      <td>162</td>\n      <td>181</td>\n      <td>189</td>\n      <td>34</td>\n    </tr>\n    <tr>\n      <th>5123385820100</th>\n      <td>1753</td>\n      <td>4402</td>\n      <td>1187</td>\n      <td>1204</td>\n      <td>1176</td>\n      <td>1523</td>\n      <td>1169</td>\n      <td>782</td>\n      <td>634</td>\n      <td>597</td>\n      <td>...</td>\n      <td>124</td>\n      <td>0</td>\n      <td>0</td>\n      <td>0</td>\n      <td>0</td>\n      <td>0</td>\n      <td>119</td>\n      <td>568</td>\n      <td>521</td>\n      <td>289</td>\n    </tr>\n  </tbody>\n</table>\n<p>5 rows × 72 columns</p>\n</div>"
     },
     "metadata": {},
     "execution_count": 8
    }
   ],
   "source": [
    "df_prod = production.unstack()\n",
    "df_prod.head()"
   ],
   "metadata": {
    "collapsed": false,
    "pycharm": {
     "name": "#%%\n"
    }
   }
  },
  {
   "cell_type": "code",
   "execution_count": 9,
   "outputs": [
    {
     "output_type": "execute_result",
     "data": {
      "text/plain": [
       "(50, 24, 3)"
      ]
     },
     "metadata": {},
     "execution_count": 9
    }
   ],
   "source": [
    "data = df_prod.values\n",
    "data = data.reshape((data.shape[0], 3, data.shape[1]//3))\n",
    "data = np.transpose(data, (0, 2, 1))\n",
    "data.shape"
   ],
   "metadata": {
    "collapsed": false,
    "pycharm": {
     "name": "#%%\n"
    }
   }
  },
  {
   "cell_type": "code",
   "execution_count": 10,
   "outputs": [
    {
     "output_type": "execute_result",
     "data": {
      "text/plain": [
       "array([ 42345., 110266., 190268.])"
      ]
     },
     "metadata": {},
     "execution_count": 10
    }
   ],
   "source": [
    "max_values = np.zeros(data.shape[-1])\n",
    "for index in range(len(max_values)):\n",
    "    max_values[index] = np.amax(data[:,:,index])\n",
    "max_values"
   ],
   "metadata": {
    "collapsed": false,
    "pycharm": {
     "name": "#%%\n"
    }
   }
  },
  {
   "cell_type": "code",
   "execution_count": 11,
   "outputs": [],
   "source": [
    "data = data / max_values[None, None, :]"
   ],
   "metadata": {
    "collapsed": false,
    "pycharm": {
     "name": "#%%\n"
    }
   }
  },
  {
   "cell_type": "code",
   "execution_count": 12,
   "outputs": [
    {
     "output_type": "stream",
     "name": "stdout",
     "text": [
      "(40, 24, 3) (10, 24, 3)\n"
     ]
    }
   ],
   "source": [
    "data_tr = data[:40]\n",
    "data_tst = data[40:]\n",
    "print(data_tr.shape, data_tst.shape)"
   ],
   "metadata": {
    "collapsed": false,
    "pycharm": {
     "name": "#%%\n"
    }
   }
  },
  {
   "cell_type": "code",
   "execution_count": 13,
   "outputs": [
    {
     "output_type": "stream",
     "name": "stdout",
     "text": [
      "(440, 12, 3) (440, 12, 3)\n"
     ]
    }
   ],
   "source": [
    "x_data = [data_tr[:, i:i+12] for i in range(11)]\n",
    "y_data = [data_tr[:, i+1:i+13] for i in range(11)]\n",
    "\n",
    "x_data = np.concatenate(x_data, axis=0)\n",
    "y_data = np.concatenate(y_data, axis=0)\n",
    "print(x_data.shape, y_data.shape)"
   ],
   "metadata": {
    "collapsed": false,
    "pycharm": {
     "name": "#%%\n"
    }
   }
  },
  {
   "cell_type": "code",
   "execution_count": 14,
   "outputs": [
    {
     "output_type": "stream",
     "name": "stdout",
     "text": [
      "Model: \"model\"\n_________________________________________________________________\nLayer (type)                 Output Shape              Param #   \n=================================================================\ninput_1 (InputLayer)         [(None, 12, 3)]           0         \n_________________________________________________________________\nlstm (LSTM)                  (None, 12, 32)            4608      \n_________________________________________________________________\nlstm_1 (LSTM)                (None, 12, 32)            8320      \n_________________________________________________________________\ndense (Dense)                (None, 12, 3)             99        \n=================================================================\nTotal params: 13,027\nTrainable params: 13,027\nNon-trainable params: 0\n_________________________________________________________________\n"
     ]
    }
   ],
   "source": [
    "timesteps = 12\n",
    "inp = Input(shape=(timesteps, 3))\n",
    "lstm = LSTM(units=32, return_sequences=True)(inp)\n",
    "lstm = LSTM(units=32, return_sequences=True)(lstm)\n",
    "out = Dense(3, activation=\"relu\")(lstm)\n",
    "\n",
    "model = Model(inp, out)\n",
    "model.summary()\n",
    "model.compile(optimizer='adam', loss='mse', metrics=['mae'])"
   ],
   "metadata": {
    "collapsed": false,
    "pycharm": {
     "name": "#%%\n"
    }
   }
  },
  {
   "cell_type": "code",
   "execution_count": 15,
   "outputs": [
    {
     "output_type": "stream",
     "name": "stdout",
     "text": [
      "Epoch 1/20\n",
      "14/14 [==============================] - 4s 12ms/step - loss: 0.0133 - mae: 0.0668\n",
      "Epoch 2/20\n",
      "14/14 [==============================] - 0s 13ms/step - loss: 0.0084 - mae: 0.0546\n",
      "Epoch 3/20\n",
      "14/14 [==============================] - 0s 13ms/step - loss: 0.0074 - mae: 0.0474\n",
      "Epoch 4/20\n",
      "14/14 [==============================] - 0s 12ms/step - loss: 0.0060 - mae: 0.0414\n",
      "Epoch 5/20\n",
      "14/14 [==============================] - 0s 12ms/step - loss: 0.0054 - mae: 0.0375\n",
      "Epoch 6/20\n",
      "14/14 [==============================] - 0s 14ms/step - loss: 0.0045 - mae: 0.0355\n",
      "Epoch 7/20\n",
      "14/14 [==============================] - 0s 13ms/step - loss: 0.0046 - mae: 0.0367\n",
      "Epoch 8/20\n",
      "14/14 [==============================] - 0s 12ms/step - loss: 0.0048 - mae: 0.0368\n",
      "Epoch 9/20\n",
      "14/14 [==============================] - 0s 13ms/step - loss: 0.0039 - mae: 0.0332\n",
      "Epoch 10/20\n",
      "14/14 [==============================] - 0s 12ms/step - loss: 0.0041 - mae: 0.0331\n",
      "Epoch 11/20\n",
      "14/14 [==============================] - 0s 13ms/step - loss: 0.0035 - mae: 0.0310\n",
      "Epoch 12/20\n",
      "14/14 [==============================] - 0s 12ms/step - loss: 0.0042 - mae: 0.0326\n",
      "Epoch 13/20\n",
      "14/14 [==============================] - 0s 12ms/step - loss: 0.0031 - mae: 0.0287\n",
      "Epoch 14/20\n",
      "14/14 [==============================] - 0s 13ms/step - loss: 0.0032 - mae: 0.0290\n",
      "Epoch 15/20\n",
      "14/14 [==============================] - 0s 12ms/step - loss: 0.0033 - mae: 0.0292\n",
      "Epoch 16/20\n",
      "14/14 [==============================] - 0s 12ms/step - loss: 0.0032 - mae: 0.0287\n",
      "Epoch 17/20\n",
      "14/14 [==============================] - 0s 20ms/step - loss: 0.0035 - mae: 0.0295\n",
      "Epoch 18/20\n",
      "14/14 [==============================] - 0s 16ms/step - loss: 0.0030 - mae: 0.0274\n",
      "Epoch 19/20\n",
      "14/14 [==============================] - 0s 13ms/step - loss: 0.0027 - mae: 0.0265\n",
      "Epoch 20/20\n",
      "14/14 [==============================] - 0s 13ms/step - loss: 0.0029 - mae: 0.0269\n"
     ]
    },
    {
     "output_type": "execute_result",
     "data": {
      "text/plain": [
       "<tensorflow.python.keras.callbacks.History at 0x7fb688533a60>"
      ]
     },
     "metadata": {},
     "execution_count": 15
    }
   ],
   "source": [
    "model.fit(x_data, y_data, epochs=20)"
   ],
   "metadata": {
    "collapsed": false,
    "pycharm": {
     "name": "#%%\n"
    }
   }
  },
  {
   "cell_type": "code",
   "execution_count": 16,
   "outputs": [],
   "source": [
    "# Предскажем на год вперёд используя данные только первого года\n",
    "x_tst = data_tst[:, :12]\n",
    "predicts = np.zeros((x_tst.shape[0], 0, x_tst.shape[2]))\n",
    "\n",
    "for i in range(12):\n",
    "    x = np.concatenate((x_tst[:, i:], predicts), axis=1)\n",
    "    pred = model.predict(x)\n",
    "    last_pred = pred[:, -1:]  # Нас интересует только последний месяц\n",
    "    predicts = np.concatenate((predicts, last_pred), axis=1)"
   ],
   "metadata": {
    "collapsed": false,
    "pycharm": {
     "name": "#%%\n"
    }
   }
  },
  {
   "cell_type": "code",
   "execution_count": 17,
   "outputs": [
    {
     "output_type": "display_data",
     "data": {
      "text/plain": "<Figure size 720x432 with 4 Axes>",
      "image/svg+xml": "<?xml version=\"1.0\" encoding=\"utf-8\" standalone=\"no\"?>\n<!DOCTYPE svg PUBLIC \"-//W3C//DTD SVG 1.1//EN\"\n  \"http://www.w3.org/Graphics/SVG/1.1/DTD/svg11.dtd\">\n<svg height=\"359.759615pt\" version=\"1.1\" viewBox=\"0 0 608.028125 359.759615\" width=\"608.028125pt\" xmlns=\"http://www.w3.org/2000/svg\" xmlns:xlink=\"http://www.w3.org/1999/xlink\">\n <metadata>\n  <rdf:RDF xmlns:cc=\"http://creativecommons.org/ns#\" xmlns:dc=\"http://purl.org/dc/elements/1.1/\" xmlns:rdf=\"http://www.w3.org/1999/02/22-rdf-syntax-ns#\">\n   <cc:Work>\n    <dc:type rdf:resource=\"http://purl.org/dc/dcmitype/StillImage\"/>\n    <dc:date>2021-04-12T21:44:48.192480</dc:date>\n    <dc:format>image/svg+xml</dc:format>\n    <dc:creator>\n     <cc:Agent>\n      <dc:title>Matplotlib v3.4.1, https://matplotlib.org/</dc:title>\n     </cc:Agent>\n    </dc:creator>\n   </cc:Work>\n  </rdf:RDF>\n </metadata>\n <defs>\n  <style type=\"text/css\">*{stroke-linecap:butt;stroke-linejoin:round;}</style>\n </defs>\n <g id=\"figure_1\">\n  <g id=\"patch_1\">\n   <path d=\"M 0 359.759615 \nL 608.028125 359.759615 \nL 608.028125 0 \nL 0 0 \nz\n\" style=\"fill:none;\"/>\n  </g>\n  <g id=\"axes_1\">\n   <g id=\"patch_2\">\n    <path d=\"M 42.828125 157.976036 \nL 296.464489 157.976036 \nL 296.464489 9.72149 \nL 42.828125 9.72149 \nz\n\" style=\"fill:#ffffff;\"/>\n   </g>\n   <g id=\"matplotlib.axis_1\">\n    <g id=\"xtick_1\">\n     <g id=\"line2d_1\">\n      <defs>\n       <path d=\"M 0 0 \nL 0 3.5 \n\" id=\"md2e70e0370\" style=\"stroke:#000000;stroke-width:0.8;\"/>\n      </defs>\n      <g>\n       <use style=\"stroke:#000000;stroke-width:0.8;\" x=\"54.357051\" xlink:href=\"#md2e70e0370\" y=\"157.976036\"/>\n      </g>\n     </g>\n     <g id=\"text_1\">\n      <!-- 0 -->\n      <g transform=\"translate(51.175801 172.574473)scale(0.1 -0.1)\">\n       <defs>\n        <path d=\"M 2034 4250 \nQ 1547 4250 1301 3770 \nQ 1056 3291 1056 2328 \nQ 1056 1369 1301 889 \nQ 1547 409 2034 409 \nQ 2525 409 2770 889 \nQ 3016 1369 3016 2328 \nQ 3016 3291 2770 3770 \nQ 2525 4250 2034 4250 \nz\nM 2034 4750 \nQ 2819 4750 3233 4129 \nQ 3647 3509 3647 2328 \nQ 3647 1150 3233 529 \nQ 2819 -91 2034 -91 \nQ 1250 -91 836 529 \nQ 422 1150 422 2328 \nQ 422 3509 836 4129 \nQ 1250 4750 2034 4750 \nz\n\" id=\"DejaVuSans-30\" transform=\"scale(0.015625)\"/>\n       </defs>\n       <use xlink:href=\"#DejaVuSans-30\"/>\n      </g>\n     </g>\n    </g>\n    <g id=\"xtick_2\">\n     <g id=\"line2d_2\">\n      <g>\n       <use style=\"stroke:#000000;stroke-width:0.8;\" x=\"104.482814\" xlink:href=\"#md2e70e0370\" y=\"157.976036\"/>\n      </g>\n     </g>\n     <g id=\"text_2\">\n      <!-- 5 -->\n      <g transform=\"translate(101.301564 172.574473)scale(0.1 -0.1)\">\n       <defs>\n        <path d=\"M 691 4666 \nL 3169 4666 \nL 3169 4134 \nL 1269 4134 \nL 1269 2991 \nQ 1406 3038 1543 3061 \nQ 1681 3084 1819 3084 \nQ 2600 3084 3056 2656 \nQ 3513 2228 3513 1497 \nQ 3513 744 3044 326 \nQ 2575 -91 1722 -91 \nQ 1428 -91 1123 -41 \nQ 819 9 494 109 \nL 494 744 \nQ 775 591 1075 516 \nQ 1375 441 1709 441 \nQ 2250 441 2565 725 \nQ 2881 1009 2881 1497 \nQ 2881 1984 2565 2268 \nQ 2250 2553 1709 2553 \nQ 1456 2553 1204 2497 \nQ 953 2441 691 2322 \nL 691 4666 \nz\n\" id=\"DejaVuSans-35\" transform=\"scale(0.015625)\"/>\n       </defs>\n       <use xlink:href=\"#DejaVuSans-35\"/>\n      </g>\n     </g>\n    </g>\n    <g id=\"xtick_3\">\n     <g id=\"line2d_3\">\n      <g>\n       <use style=\"stroke:#000000;stroke-width:0.8;\" x=\"154.608578\" xlink:href=\"#md2e70e0370\" y=\"157.976036\"/>\n      </g>\n     </g>\n     <g id=\"text_3\">\n      <!-- 10 -->\n      <g transform=\"translate(148.246078 172.574473)scale(0.1 -0.1)\">\n       <defs>\n        <path d=\"M 794 531 \nL 1825 531 \nL 1825 4091 \nL 703 3866 \nL 703 4441 \nL 1819 4666 \nL 2450 4666 \nL 2450 531 \nL 3481 531 \nL 3481 0 \nL 794 0 \nL 794 531 \nz\n\" id=\"DejaVuSans-31\" transform=\"scale(0.015625)\"/>\n       </defs>\n       <use xlink:href=\"#DejaVuSans-31\"/>\n       <use x=\"63.623047\" xlink:href=\"#DejaVuSans-30\"/>\n      </g>\n     </g>\n    </g>\n    <g id=\"xtick_4\">\n     <g id=\"line2d_4\">\n      <g>\n       <use style=\"stroke:#000000;stroke-width:0.8;\" x=\"204.734341\" xlink:href=\"#md2e70e0370\" y=\"157.976036\"/>\n      </g>\n     </g>\n     <g id=\"text_4\">\n      <!-- 15 -->\n      <g transform=\"translate(198.371841 172.574473)scale(0.1 -0.1)\">\n       <use xlink:href=\"#DejaVuSans-31\"/>\n       <use x=\"63.623047\" xlink:href=\"#DejaVuSans-35\"/>\n      </g>\n     </g>\n    </g>\n    <g id=\"xtick_5\">\n     <g id=\"line2d_5\">\n      <g>\n       <use style=\"stroke:#000000;stroke-width:0.8;\" x=\"254.860105\" xlink:href=\"#md2e70e0370\" y=\"157.976036\"/>\n      </g>\n     </g>\n     <g id=\"text_5\">\n      <!-- 20 -->\n      <g transform=\"translate(248.497605 172.574473)scale(0.1 -0.1)\">\n       <defs>\n        <path d=\"M 1228 531 \nL 3431 531 \nL 3431 0 \nL 469 0 \nL 469 531 \nQ 828 903 1448 1529 \nQ 2069 2156 2228 2338 \nQ 2531 2678 2651 2914 \nQ 2772 3150 2772 3378 \nQ 2772 3750 2511 3984 \nQ 2250 4219 1831 4219 \nQ 1534 4219 1204 4116 \nQ 875 4013 500 3803 \nL 500 4441 \nQ 881 4594 1212 4672 \nQ 1544 4750 1819 4750 \nQ 2544 4750 2975 4387 \nQ 3406 4025 3406 3419 \nQ 3406 3131 3298 2873 \nQ 3191 2616 2906 2266 \nQ 2828 2175 2409 1742 \nQ 1991 1309 1228 531 \nz\n\" id=\"DejaVuSans-32\" transform=\"scale(0.015625)\"/>\n       </defs>\n       <use xlink:href=\"#DejaVuSans-32\"/>\n       <use x=\"63.623047\" xlink:href=\"#DejaVuSans-30\"/>\n      </g>\n     </g>\n    </g>\n   </g>\n   <g id=\"matplotlib.axis_2\">\n    <g id=\"ytick_1\">\n     <g id=\"line2d_6\">\n      <defs>\n       <path d=\"M 0 0 \nL -3.5 0 \n\" id=\"mcfc9ef3340\" style=\"stroke:#000000;stroke-width:0.8;\"/>\n      </defs>\n      <g>\n       <use style=\"stroke:#000000;stroke-width:0.8;\" x=\"42.828125\" xlink:href=\"#mcfc9ef3340\" y=\"142.726299\"/>\n      </g>\n     </g>\n     <g id=\"text_6\">\n      <!-- 0.050 -->\n      <g transform=\"translate(7.2 146.525518)scale(0.1 -0.1)\">\n       <defs>\n        <path d=\"M 684 794 \nL 1344 794 \nL 1344 0 \nL 684 0 \nL 684 794 \nz\n\" id=\"DejaVuSans-2e\" transform=\"scale(0.015625)\"/>\n       </defs>\n       <use xlink:href=\"#DejaVuSans-30\"/>\n       <use x=\"63.623047\" xlink:href=\"#DejaVuSans-2e\"/>\n       <use x=\"95.410156\" xlink:href=\"#DejaVuSans-30\"/>\n       <use x=\"159.033203\" xlink:href=\"#DejaVuSans-35\"/>\n       <use x=\"222.65625\" xlink:href=\"#DejaVuSans-30\"/>\n      </g>\n     </g>\n    </g>\n    <g id=\"ytick_2\">\n     <g id=\"line2d_7\">\n      <g>\n       <use style=\"stroke:#000000;stroke-width:0.8;\" x=\"42.828125\" xlink:href=\"#mcfc9ef3340\" y=\"117.646704\"/>\n      </g>\n     </g>\n     <g id=\"text_7\">\n      <!-- 0.075 -->\n      <g transform=\"translate(7.2 121.445922)scale(0.1 -0.1)\">\n       <defs>\n        <path d=\"M 525 4666 \nL 3525 4666 \nL 3525 4397 \nL 1831 0 \nL 1172 0 \nL 2766 4134 \nL 525 4134 \nL 525 4666 \nz\n\" id=\"DejaVuSans-37\" transform=\"scale(0.015625)\"/>\n       </defs>\n       <use xlink:href=\"#DejaVuSans-30\"/>\n       <use x=\"63.623047\" xlink:href=\"#DejaVuSans-2e\"/>\n       <use x=\"95.410156\" xlink:href=\"#DejaVuSans-30\"/>\n       <use x=\"159.033203\" xlink:href=\"#DejaVuSans-37\"/>\n       <use x=\"222.65625\" xlink:href=\"#DejaVuSans-35\"/>\n      </g>\n     </g>\n    </g>\n    <g id=\"ytick_3\">\n     <g id=\"line2d_8\">\n      <g>\n       <use style=\"stroke:#000000;stroke-width:0.8;\" x=\"42.828125\" xlink:href=\"#mcfc9ef3340\" y=\"92.567108\"/>\n      </g>\n     </g>\n     <g id=\"text_8\">\n      <!-- 0.100 -->\n      <g transform=\"translate(7.2 96.366327)scale(0.1 -0.1)\">\n       <use xlink:href=\"#DejaVuSans-30\"/>\n       <use x=\"63.623047\" xlink:href=\"#DejaVuSans-2e\"/>\n       <use x=\"95.410156\" xlink:href=\"#DejaVuSans-31\"/>\n       <use x=\"159.033203\" xlink:href=\"#DejaVuSans-30\"/>\n       <use x=\"222.65625\" xlink:href=\"#DejaVuSans-30\"/>\n      </g>\n     </g>\n    </g>\n    <g id=\"ytick_4\">\n     <g id=\"line2d_9\">\n      <g>\n       <use style=\"stroke:#000000;stroke-width:0.8;\" x=\"42.828125\" xlink:href=\"#mcfc9ef3340\" y=\"67.487512\"/>\n      </g>\n     </g>\n     <g id=\"text_9\">\n      <!-- 0.125 -->\n      <g transform=\"translate(7.2 71.286731)scale(0.1 -0.1)\">\n       <use xlink:href=\"#DejaVuSans-30\"/>\n       <use x=\"63.623047\" xlink:href=\"#DejaVuSans-2e\"/>\n       <use x=\"95.410156\" xlink:href=\"#DejaVuSans-31\"/>\n       <use x=\"159.033203\" xlink:href=\"#DejaVuSans-32\"/>\n       <use x=\"222.65625\" xlink:href=\"#DejaVuSans-35\"/>\n      </g>\n     </g>\n    </g>\n    <g id=\"ytick_5\">\n     <g id=\"line2d_10\">\n      <g>\n       <use style=\"stroke:#000000;stroke-width:0.8;\" x=\"42.828125\" xlink:href=\"#mcfc9ef3340\" y=\"42.407917\"/>\n      </g>\n     </g>\n     <g id=\"text_10\">\n      <!-- 0.150 -->\n      <g transform=\"translate(7.2 46.207136)scale(0.1 -0.1)\">\n       <use xlink:href=\"#DejaVuSans-30\"/>\n       <use x=\"63.623047\" xlink:href=\"#DejaVuSans-2e\"/>\n       <use x=\"95.410156\" xlink:href=\"#DejaVuSans-31\"/>\n       <use x=\"159.033203\" xlink:href=\"#DejaVuSans-35\"/>\n       <use x=\"222.65625\" xlink:href=\"#DejaVuSans-30\"/>\n      </g>\n     </g>\n    </g>\n    <g id=\"ytick_6\">\n     <g id=\"line2d_11\">\n      <g>\n       <use style=\"stroke:#000000;stroke-width:0.8;\" x=\"42.828125\" xlink:href=\"#mcfc9ef3340\" y=\"17.328321\"/>\n      </g>\n     </g>\n     <g id=\"text_11\">\n      <!-- 0.175 -->\n      <g transform=\"translate(7.2 21.12754)scale(0.1 -0.1)\">\n       <use xlink:href=\"#DejaVuSans-30\"/>\n       <use x=\"63.623047\" xlink:href=\"#DejaVuSans-2e\"/>\n       <use x=\"95.410156\" xlink:href=\"#DejaVuSans-31\"/>\n       <use x=\"159.033203\" xlink:href=\"#DejaVuSans-37\"/>\n       <use x=\"222.65625\" xlink:href=\"#DejaVuSans-35\"/>\n      </g>\n     </g>\n    </g>\n   </g>\n   <g id=\"line2d_12\">\n    <path clip-path=\"url(#p2be1f913f4)\" d=\"M 54.357051 93.645036 \nL 64.382203 102.410605 \nL 74.407356 116.57766 \nL 84.432509 103.595141 \nL 94.457661 118.87566 \nL 104.482814 128.446714 \nL 114.507967 120.415557 \nL 124.53312 128.138734 \nL 134.558272 134.17987 \nL 144.583425 140.623747 \nL 154.608578 144.864387 \nL 164.63373 151.237193 \n\" style=\"fill:none;stroke:#1f77b4;stroke-linecap:square;stroke-width:1.5;\"/>\n   </g>\n   <g id=\"line2d_13\">\n    <path clip-path=\"url(#p2be1f913f4)\" d=\"M 174.658883 88.778958 \nL 184.684036 69.684591 \nL 194.709189 51.009935 \nL 204.734341 36.653775 \nL 214.759494 27.653609 \nL 224.784647 20.886466 \nL 234.809799 16.460333 \nL 244.834952 16.803389 \nL 254.860105 18.391065 \nL 264.885258 20.065443 \nL 274.91041 21.15856 \nL 284.935563 21.466143 \n\" style=\"fill:none;stroke:#ff7f0e;stroke-linecap:square;stroke-width:1.5;\"/>\n   </g>\n   <g id=\"patch_3\">\n    <path d=\"M 42.828125 157.976036 \nL 42.828125 9.72149 \n\" style=\"fill:none;stroke:#000000;stroke-linecap:square;stroke-linejoin:miter;stroke-width:0.8;\"/>\n   </g>\n   <g id=\"patch_4\">\n    <path d=\"M 296.464489 157.976036 \nL 296.464489 9.72149 \n\" style=\"fill:none;stroke:#000000;stroke-linecap:square;stroke-linejoin:miter;stroke-width:0.8;\"/>\n   </g>\n   <g id=\"patch_5\">\n    <path d=\"M 42.828125 157.976036 \nL 296.464489 157.976036 \n\" style=\"fill:none;stroke:#000000;stroke-linecap:square;stroke-linejoin:miter;stroke-width:0.8;\"/>\n   </g>\n   <g id=\"patch_6\">\n    <path d=\"M 42.828125 9.72149 \nL 296.464489 9.72149 \n\" style=\"fill:none;stroke:#000000;stroke-linecap:square;stroke-linejoin:miter;stroke-width:0.8;\"/>\n   </g>\n   <g id=\"legend_1\">\n    <g id=\"patch_7\">\n     <path d=\"M 49.828125 47.07774 \nL 131.501563 47.07774 \nQ 133.501563 47.07774 133.501563 45.07774 \nL 133.501563 16.72149 \nQ 133.501563 14.72149 131.501563 14.72149 \nL 49.828125 14.72149 \nQ 47.828125 14.72149 47.828125 16.72149 \nL 47.828125 45.07774 \nQ 47.828125 47.07774 49.828125 47.07774 \nz\n\" style=\"fill:#ffffff;opacity:0.8;stroke:#cccccc;stroke-linejoin:miter;\"/>\n    </g>\n    <g id=\"line2d_14\">\n     <path d=\"M 51.828125 22.819928 \nL 71.828125 22.819928 \n\" style=\"fill:none;stroke:#1f77b4;stroke-linecap:square;stroke-width:1.5;\"/>\n    </g>\n    <g id=\"line2d_15\"/>\n    <g id=\"text_12\">\n     <!-- Actual -->\n     <g transform=\"translate(79.828125 26.319928)scale(0.1 -0.1)\">\n      <defs>\n       <path d=\"M 2188 4044 \nL 1331 1722 \nL 3047 1722 \nL 2188 4044 \nz\nM 1831 4666 \nL 2547 4666 \nL 4325 0 \nL 3669 0 \nL 3244 1197 \nL 1141 1197 \nL 716 0 \nL 50 0 \nL 1831 4666 \nz\n\" id=\"DejaVuSans-41\" transform=\"scale(0.015625)\"/>\n       <path d=\"M 3122 3366 \nL 3122 2828 \nQ 2878 2963 2633 3030 \nQ 2388 3097 2138 3097 \nQ 1578 3097 1268 2742 \nQ 959 2388 959 1747 \nQ 959 1106 1268 751 \nQ 1578 397 2138 397 \nQ 2388 397 2633 464 \nQ 2878 531 3122 666 \nL 3122 134 \nQ 2881 22 2623 -34 \nQ 2366 -91 2075 -91 \nQ 1284 -91 818 406 \nQ 353 903 353 1747 \nQ 353 2603 823 3093 \nQ 1294 3584 2113 3584 \nQ 2378 3584 2631 3529 \nQ 2884 3475 3122 3366 \nz\n\" id=\"DejaVuSans-63\" transform=\"scale(0.015625)\"/>\n       <path d=\"M 1172 4494 \nL 1172 3500 \nL 2356 3500 \nL 2356 3053 \nL 1172 3053 \nL 1172 1153 \nQ 1172 725 1289 603 \nQ 1406 481 1766 481 \nL 2356 481 \nL 2356 0 \nL 1766 0 \nQ 1100 0 847 248 \nQ 594 497 594 1153 \nL 594 3053 \nL 172 3053 \nL 172 3500 \nL 594 3500 \nL 594 4494 \nL 1172 4494 \nz\n\" id=\"DejaVuSans-74\" transform=\"scale(0.015625)\"/>\n       <path d=\"M 544 1381 \nL 544 3500 \nL 1119 3500 \nL 1119 1403 \nQ 1119 906 1312 657 \nQ 1506 409 1894 409 \nQ 2359 409 2629 706 \nQ 2900 1003 2900 1516 \nL 2900 3500 \nL 3475 3500 \nL 3475 0 \nL 2900 0 \nL 2900 538 \nQ 2691 219 2414 64 \nQ 2138 -91 1772 -91 \nQ 1169 -91 856 284 \nQ 544 659 544 1381 \nz\nM 1991 3584 \nL 1991 3584 \nz\n\" id=\"DejaVuSans-75\" transform=\"scale(0.015625)\"/>\n       <path d=\"M 2194 1759 \nQ 1497 1759 1228 1600 \nQ 959 1441 959 1056 \nQ 959 750 1161 570 \nQ 1363 391 1709 391 \nQ 2188 391 2477 730 \nQ 2766 1069 2766 1631 \nL 2766 1759 \nL 2194 1759 \nz\nM 3341 1997 \nL 3341 0 \nL 2766 0 \nL 2766 531 \nQ 2569 213 2275 61 \nQ 1981 -91 1556 -91 \nQ 1019 -91 701 211 \nQ 384 513 384 1019 \nQ 384 1609 779 1909 \nQ 1175 2209 1959 2209 \nL 2766 2209 \nL 2766 2266 \nQ 2766 2663 2505 2880 \nQ 2244 3097 1772 3097 \nQ 1472 3097 1187 3025 \nQ 903 2953 641 2809 \nL 641 3341 \nQ 956 3463 1253 3523 \nQ 1550 3584 1831 3584 \nQ 2591 3584 2966 3190 \nQ 3341 2797 3341 1997 \nz\n\" id=\"DejaVuSans-61\" transform=\"scale(0.015625)\"/>\n       <path d=\"M 603 4863 \nL 1178 4863 \nL 1178 0 \nL 603 0 \nL 603 4863 \nz\n\" id=\"DejaVuSans-6c\" transform=\"scale(0.015625)\"/>\n      </defs>\n      <use xlink:href=\"#DejaVuSans-41\"/>\n      <use x=\"66.658203\" xlink:href=\"#DejaVuSans-63\"/>\n      <use x=\"121.638672\" xlink:href=\"#DejaVuSans-74\"/>\n      <use x=\"160.847656\" xlink:href=\"#DejaVuSans-75\"/>\n      <use x=\"224.226562\" xlink:href=\"#DejaVuSans-61\"/>\n      <use x=\"285.505859\" xlink:href=\"#DejaVuSans-6c\"/>\n     </g>\n    </g>\n    <g id=\"line2d_16\">\n     <path d=\"M 51.828125 37.498053 \nL 71.828125 37.498053 \n\" style=\"fill:none;stroke:#ff7f0e;stroke-linecap:square;stroke-width:1.5;\"/>\n    </g>\n    <g id=\"line2d_17\"/>\n    <g id=\"text_13\">\n     <!-- Prediction -->\n     <g transform=\"translate(79.828125 40.998053)scale(0.1 -0.1)\">\n      <defs>\n       <path d=\"M 1259 4147 \nL 1259 2394 \nL 2053 2394 \nQ 2494 2394 2734 2622 \nQ 2975 2850 2975 3272 \nQ 2975 3691 2734 3919 \nQ 2494 4147 2053 4147 \nL 1259 4147 \nz\nM 628 4666 \nL 2053 4666 \nQ 2838 4666 3239 4311 \nQ 3641 3956 3641 3272 \nQ 3641 2581 3239 2228 \nQ 2838 1875 2053 1875 \nL 1259 1875 \nL 1259 0 \nL 628 0 \nL 628 4666 \nz\n\" id=\"DejaVuSans-50\" transform=\"scale(0.015625)\"/>\n       <path d=\"M 2631 2963 \nQ 2534 3019 2420 3045 \nQ 2306 3072 2169 3072 \nQ 1681 3072 1420 2755 \nQ 1159 2438 1159 1844 \nL 1159 0 \nL 581 0 \nL 581 3500 \nL 1159 3500 \nL 1159 2956 \nQ 1341 3275 1631 3429 \nQ 1922 3584 2338 3584 \nQ 2397 3584 2469 3576 \nQ 2541 3569 2628 3553 \nL 2631 2963 \nz\n\" id=\"DejaVuSans-72\" transform=\"scale(0.015625)\"/>\n       <path d=\"M 3597 1894 \nL 3597 1613 \nL 953 1613 \nQ 991 1019 1311 708 \nQ 1631 397 2203 397 \nQ 2534 397 2845 478 \nQ 3156 559 3463 722 \nL 3463 178 \nQ 3153 47 2828 -22 \nQ 2503 -91 2169 -91 \nQ 1331 -91 842 396 \nQ 353 884 353 1716 \nQ 353 2575 817 3079 \nQ 1281 3584 2069 3584 \nQ 2775 3584 3186 3129 \nQ 3597 2675 3597 1894 \nz\nM 3022 2063 \nQ 3016 2534 2758 2815 \nQ 2500 3097 2075 3097 \nQ 1594 3097 1305 2825 \nQ 1016 2553 972 2059 \nL 3022 2063 \nz\n\" id=\"DejaVuSans-65\" transform=\"scale(0.015625)\"/>\n       <path d=\"M 2906 2969 \nL 2906 4863 \nL 3481 4863 \nL 3481 0 \nL 2906 0 \nL 2906 525 \nQ 2725 213 2448 61 \nQ 2172 -91 1784 -91 \nQ 1150 -91 751 415 \nQ 353 922 353 1747 \nQ 353 2572 751 3078 \nQ 1150 3584 1784 3584 \nQ 2172 3584 2448 3432 \nQ 2725 3281 2906 2969 \nz\nM 947 1747 \nQ 947 1113 1208 752 \nQ 1469 391 1925 391 \nQ 2381 391 2643 752 \nQ 2906 1113 2906 1747 \nQ 2906 2381 2643 2742 \nQ 2381 3103 1925 3103 \nQ 1469 3103 1208 2742 \nQ 947 2381 947 1747 \nz\n\" id=\"DejaVuSans-64\" transform=\"scale(0.015625)\"/>\n       <path d=\"M 603 3500 \nL 1178 3500 \nL 1178 0 \nL 603 0 \nL 603 3500 \nz\nM 603 4863 \nL 1178 4863 \nL 1178 4134 \nL 603 4134 \nL 603 4863 \nz\n\" id=\"DejaVuSans-69\" transform=\"scale(0.015625)\"/>\n       <path d=\"M 1959 3097 \nQ 1497 3097 1228 2736 \nQ 959 2375 959 1747 \nQ 959 1119 1226 758 \nQ 1494 397 1959 397 \nQ 2419 397 2687 759 \nQ 2956 1122 2956 1747 \nQ 2956 2369 2687 2733 \nQ 2419 3097 1959 3097 \nz\nM 1959 3584 \nQ 2709 3584 3137 3096 \nQ 3566 2609 3566 1747 \nQ 3566 888 3137 398 \nQ 2709 -91 1959 -91 \nQ 1206 -91 779 398 \nQ 353 888 353 1747 \nQ 353 2609 779 3096 \nQ 1206 3584 1959 3584 \nz\n\" id=\"DejaVuSans-6f\" transform=\"scale(0.015625)\"/>\n       <path d=\"M 3513 2113 \nL 3513 0 \nL 2938 0 \nL 2938 2094 \nQ 2938 2591 2744 2837 \nQ 2550 3084 2163 3084 \nQ 1697 3084 1428 2787 \nQ 1159 2491 1159 1978 \nL 1159 0 \nL 581 0 \nL 581 3500 \nL 1159 3500 \nL 1159 2956 \nQ 1366 3272 1645 3428 \nQ 1925 3584 2291 3584 \nQ 2894 3584 3203 3211 \nQ 3513 2838 3513 2113 \nz\n\" id=\"DejaVuSans-6e\" transform=\"scale(0.015625)\"/>\n      </defs>\n      <use xlink:href=\"#DejaVuSans-50\"/>\n      <use x=\"58.552734\" xlink:href=\"#DejaVuSans-72\"/>\n      <use x=\"97.416016\" xlink:href=\"#DejaVuSans-65\"/>\n      <use x=\"158.939453\" xlink:href=\"#DejaVuSans-64\"/>\n      <use x=\"222.416016\" xlink:href=\"#DejaVuSans-69\"/>\n      <use x=\"250.199219\" xlink:href=\"#DejaVuSans-63\"/>\n      <use x=\"305.179688\" xlink:href=\"#DejaVuSans-74\"/>\n      <use x=\"344.388672\" xlink:href=\"#DejaVuSans-69\"/>\n      <use x=\"372.171875\" xlink:href=\"#DejaVuSans-6f\"/>\n      <use x=\"433.353516\" xlink:href=\"#DejaVuSans-6e\"/>\n     </g>\n    </g>\n   </g>\n  </g>\n  <g id=\"axes_2\">\n   <g id=\"patch_8\">\n    <path d=\"M 347.191761 157.976036 \nL 600.828125 157.976036 \nL 600.828125 9.72149 \nL 347.191761 9.72149 \nz\n\" style=\"fill:#ffffff;\"/>\n   </g>\n   <g id=\"matplotlib.axis_3\">\n    <g id=\"xtick_6\">\n     <g id=\"line2d_18\">\n      <g>\n       <use style=\"stroke:#000000;stroke-width:0.8;\" x=\"358.720687\" xlink:href=\"#md2e70e0370\" y=\"157.976036\"/>\n      </g>\n     </g>\n     <g id=\"text_14\">\n      <!-- 0 -->\n      <g transform=\"translate(355.539437 172.574473)scale(0.1 -0.1)\">\n       <use xlink:href=\"#DejaVuSans-30\"/>\n      </g>\n     </g>\n    </g>\n    <g id=\"xtick_7\">\n     <g id=\"line2d_19\">\n      <g>\n       <use style=\"stroke:#000000;stroke-width:0.8;\" x=\"408.846451\" xlink:href=\"#md2e70e0370\" y=\"157.976036\"/>\n      </g>\n     </g>\n     <g id=\"text_15\">\n      <!-- 5 -->\n      <g transform=\"translate(405.665201 172.574473)scale(0.1 -0.1)\">\n       <use xlink:href=\"#DejaVuSans-35\"/>\n      </g>\n     </g>\n    </g>\n    <g id=\"xtick_8\">\n     <g id=\"line2d_20\">\n      <g>\n       <use style=\"stroke:#000000;stroke-width:0.8;\" x=\"458.972214\" xlink:href=\"#md2e70e0370\" y=\"157.976036\"/>\n      </g>\n     </g>\n     <g id=\"text_16\">\n      <!-- 10 -->\n      <g transform=\"translate(452.609714 172.574473)scale(0.1 -0.1)\">\n       <use xlink:href=\"#DejaVuSans-31\"/>\n       <use x=\"63.623047\" xlink:href=\"#DejaVuSans-30\"/>\n      </g>\n     </g>\n    </g>\n    <g id=\"xtick_9\">\n     <g id=\"line2d_21\">\n      <g>\n       <use style=\"stroke:#000000;stroke-width:0.8;\" x=\"509.097978\" xlink:href=\"#md2e70e0370\" y=\"157.976036\"/>\n      </g>\n     </g>\n     <g id=\"text_17\">\n      <!-- 15 -->\n      <g transform=\"translate(502.735478 172.574473)scale(0.1 -0.1)\">\n       <use xlink:href=\"#DejaVuSans-31\"/>\n       <use x=\"63.623047\" xlink:href=\"#DejaVuSans-35\"/>\n      </g>\n     </g>\n    </g>\n    <g id=\"xtick_10\">\n     <g id=\"line2d_22\">\n      <g>\n       <use style=\"stroke:#000000;stroke-width:0.8;\" x=\"559.223741\" xlink:href=\"#md2e70e0370\" y=\"157.976036\"/>\n      </g>\n     </g>\n     <g id=\"text_18\">\n      <!-- 20 -->\n      <g transform=\"translate(552.861241 172.574473)scale(0.1 -0.1)\">\n       <use xlink:href=\"#DejaVuSans-32\"/>\n       <use x=\"63.623047\" xlink:href=\"#DejaVuSans-30\"/>\n      </g>\n     </g>\n    </g>\n   </g>\n   <g id=\"matplotlib.axis_4\">\n    <g id=\"ytick_7\">\n     <g id=\"line2d_23\">\n      <g>\n       <use style=\"stroke:#000000;stroke-width:0.8;\" x=\"347.191761\" xlink:href=\"#mcfc9ef3340\" y=\"139.949536\"/>\n      </g>\n     </g>\n     <g id=\"text_19\">\n      <!-- 0.04 -->\n      <g transform=\"translate(317.926136 143.748755)scale(0.1 -0.1)\">\n       <defs>\n        <path d=\"M 2419 4116 \nL 825 1625 \nL 2419 1625 \nL 2419 4116 \nz\nM 2253 4666 \nL 3047 4666 \nL 3047 1625 \nL 3713 1625 \nL 3713 1100 \nL 3047 1100 \nL 3047 0 \nL 2419 0 \nL 2419 1100 \nL 313 1100 \nL 313 1709 \nL 2253 4666 \nz\n\" id=\"DejaVuSans-34\" transform=\"scale(0.015625)\"/>\n       </defs>\n       <use xlink:href=\"#DejaVuSans-30\"/>\n       <use x=\"63.623047\" xlink:href=\"#DejaVuSans-2e\"/>\n       <use x=\"95.410156\" xlink:href=\"#DejaVuSans-30\"/>\n       <use x=\"159.033203\" xlink:href=\"#DejaVuSans-34\"/>\n      </g>\n     </g>\n    </g>\n    <g id=\"ytick_8\">\n     <g id=\"line2d_24\">\n      <g>\n       <use style=\"stroke:#000000;stroke-width:0.8;\" x=\"347.191761\" xlink:href=\"#mcfc9ef3340\" y=\"118.457816\"/>\n      </g>\n     </g>\n     <g id=\"text_20\">\n      <!-- 0.06 -->\n      <g transform=\"translate(317.926136 122.257035)scale(0.1 -0.1)\">\n       <defs>\n        <path d=\"M 2113 2584 \nQ 1688 2584 1439 2293 \nQ 1191 2003 1191 1497 \nQ 1191 994 1439 701 \nQ 1688 409 2113 409 \nQ 2538 409 2786 701 \nQ 3034 994 3034 1497 \nQ 3034 2003 2786 2293 \nQ 2538 2584 2113 2584 \nz\nM 3366 4563 \nL 3366 3988 \nQ 3128 4100 2886 4159 \nQ 2644 4219 2406 4219 \nQ 1781 4219 1451 3797 \nQ 1122 3375 1075 2522 \nQ 1259 2794 1537 2939 \nQ 1816 3084 2150 3084 \nQ 2853 3084 3261 2657 \nQ 3669 2231 3669 1497 \nQ 3669 778 3244 343 \nQ 2819 -91 2113 -91 \nQ 1303 -91 875 529 \nQ 447 1150 447 2328 \nQ 447 3434 972 4092 \nQ 1497 4750 2381 4750 \nQ 2619 4750 2861 4703 \nQ 3103 4656 3366 4563 \nz\n\" id=\"DejaVuSans-36\" transform=\"scale(0.015625)\"/>\n       </defs>\n       <use xlink:href=\"#DejaVuSans-30\"/>\n       <use x=\"63.623047\" xlink:href=\"#DejaVuSans-2e\"/>\n       <use x=\"95.410156\" xlink:href=\"#DejaVuSans-30\"/>\n       <use x=\"159.033203\" xlink:href=\"#DejaVuSans-36\"/>\n      </g>\n     </g>\n    </g>\n    <g id=\"ytick_9\">\n     <g id=\"line2d_25\">\n      <g>\n       <use style=\"stroke:#000000;stroke-width:0.8;\" x=\"347.191761\" xlink:href=\"#mcfc9ef3340\" y=\"96.966097\"/>\n      </g>\n     </g>\n     <g id=\"text_21\">\n      <!-- 0.08 -->\n      <g transform=\"translate(317.926136 100.765316)scale(0.1 -0.1)\">\n       <defs>\n        <path d=\"M 2034 2216 \nQ 1584 2216 1326 1975 \nQ 1069 1734 1069 1313 \nQ 1069 891 1326 650 \nQ 1584 409 2034 409 \nQ 2484 409 2743 651 \nQ 3003 894 3003 1313 \nQ 3003 1734 2745 1975 \nQ 2488 2216 2034 2216 \nz\nM 1403 2484 \nQ 997 2584 770 2862 \nQ 544 3141 544 3541 \nQ 544 4100 942 4425 \nQ 1341 4750 2034 4750 \nQ 2731 4750 3128 4425 \nQ 3525 4100 3525 3541 \nQ 3525 3141 3298 2862 \nQ 3072 2584 2669 2484 \nQ 3125 2378 3379 2068 \nQ 3634 1759 3634 1313 \nQ 3634 634 3220 271 \nQ 2806 -91 2034 -91 \nQ 1263 -91 848 271 \nQ 434 634 434 1313 \nQ 434 1759 690 2068 \nQ 947 2378 1403 2484 \nz\nM 1172 3481 \nQ 1172 3119 1398 2916 \nQ 1625 2713 2034 2713 \nQ 2441 2713 2670 2916 \nQ 2900 3119 2900 3481 \nQ 2900 3844 2670 4047 \nQ 2441 4250 2034 4250 \nQ 1625 4250 1398 4047 \nQ 1172 3844 1172 3481 \nz\n\" id=\"DejaVuSans-38\" transform=\"scale(0.015625)\"/>\n       </defs>\n       <use xlink:href=\"#DejaVuSans-30\"/>\n       <use x=\"63.623047\" xlink:href=\"#DejaVuSans-2e\"/>\n       <use x=\"95.410156\" xlink:href=\"#DejaVuSans-30\"/>\n       <use x=\"159.033203\" xlink:href=\"#DejaVuSans-38\"/>\n      </g>\n     </g>\n    </g>\n    <g id=\"ytick_10\">\n     <g id=\"line2d_26\">\n      <g>\n       <use style=\"stroke:#000000;stroke-width:0.8;\" x=\"347.191761\" xlink:href=\"#mcfc9ef3340\" y=\"75.474377\"/>\n      </g>\n     </g>\n     <g id=\"text_22\">\n      <!-- 0.10 -->\n      <g transform=\"translate(317.926136 79.273596)scale(0.1 -0.1)\">\n       <use xlink:href=\"#DejaVuSans-30\"/>\n       <use x=\"63.623047\" xlink:href=\"#DejaVuSans-2e\"/>\n       <use x=\"95.410156\" xlink:href=\"#DejaVuSans-31\"/>\n       <use x=\"159.033203\" xlink:href=\"#DejaVuSans-30\"/>\n      </g>\n     </g>\n    </g>\n    <g id=\"ytick_11\">\n     <g id=\"line2d_27\">\n      <g>\n       <use style=\"stroke:#000000;stroke-width:0.8;\" x=\"347.191761\" xlink:href=\"#mcfc9ef3340\" y=\"53.982658\"/>\n      </g>\n     </g>\n     <g id=\"text_23\">\n      <!-- 0.12 -->\n      <g transform=\"translate(317.926136 57.781877)scale(0.1 -0.1)\">\n       <use xlink:href=\"#DejaVuSans-30\"/>\n       <use x=\"63.623047\" xlink:href=\"#DejaVuSans-2e\"/>\n       <use x=\"95.410156\" xlink:href=\"#DejaVuSans-31\"/>\n       <use x=\"159.033203\" xlink:href=\"#DejaVuSans-32\"/>\n      </g>\n     </g>\n    </g>\n    <g id=\"ytick_12\">\n     <g id=\"line2d_28\">\n      <g>\n       <use style=\"stroke:#000000;stroke-width:0.8;\" x=\"347.191761\" xlink:href=\"#mcfc9ef3340\" y=\"32.490938\"/>\n      </g>\n     </g>\n     <g id=\"text_24\">\n      <!-- 0.14 -->\n      <g transform=\"translate(317.926136 36.290157)scale(0.1 -0.1)\">\n       <use xlink:href=\"#DejaVuSans-30\"/>\n       <use x=\"63.623047\" xlink:href=\"#DejaVuSans-2e\"/>\n       <use x=\"95.410156\" xlink:href=\"#DejaVuSans-31\"/>\n       <use x=\"159.033203\" xlink:href=\"#DejaVuSans-34\"/>\n      </g>\n     </g>\n    </g>\n    <g id=\"ytick_13\">\n     <g id=\"line2d_29\">\n      <g>\n       <use style=\"stroke:#000000;stroke-width:0.8;\" x=\"347.191761\" xlink:href=\"#mcfc9ef3340\" y=\"10.999219\"/>\n      </g>\n     </g>\n     <g id=\"text_25\">\n      <!-- 0.16 -->\n      <g transform=\"translate(317.926136 14.798437)scale(0.1 -0.1)\">\n       <use xlink:href=\"#DejaVuSans-30\"/>\n       <use x=\"63.623047\" xlink:href=\"#DejaVuSans-2e\"/>\n       <use x=\"95.410156\" xlink:href=\"#DejaVuSans-31\"/>\n       <use x=\"159.033203\" xlink:href=\"#DejaVuSans-36\"/>\n      </g>\n     </g>\n    </g>\n   </g>\n   <g id=\"line2d_30\">\n    <path clip-path=\"url(#pfc87848282)\" d=\"M 358.720687 22.043257 \nL 368.74584 16.460333 \nL 378.770992 78.583051 \nL 388.796145 61.885033 \nL 398.821298 103.427062 \nL 408.846451 113.755472 \nL 418.871603 114.542156 \nL 428.896756 130.52962 \nL 438.921909 137.000737 \nL 448.947061 141.873107 \nL 458.972214 147.582915 \nL 468.997367 151.237193 \n\" style=\"fill:none;stroke:#1f77b4;stroke-linecap:square;stroke-width:1.5;\"/>\n   </g>\n   <g id=\"line2d_31\">\n    <path clip-path=\"url(#pfc87848282)\" d=\"M 479.02252 124.413604 \nL 489.047672 121.816748 \nL 499.072825 123.564181 \nL 509.097978 125.616021 \nL 519.12313 129.274607 \nL 529.148283 133.172685 \nL 539.173436 136.51361 \nL 549.198589 139.586908 \nL 559.223741 141.706765 \nL 569.248894 142.424805 \nL 579.274047 143.341738 \nL 589.299199 144.259494 \n\" style=\"fill:none;stroke:#ff7f0e;stroke-linecap:square;stroke-width:1.5;\"/>\n   </g>\n   <g id=\"patch_9\">\n    <path d=\"M 347.191761 157.976036 \nL 347.191761 9.72149 \n\" style=\"fill:none;stroke:#000000;stroke-linecap:square;stroke-linejoin:miter;stroke-width:0.8;\"/>\n   </g>\n   <g id=\"patch_10\">\n    <path d=\"M 600.828125 157.976036 \nL 600.828125 9.72149 \n\" style=\"fill:none;stroke:#000000;stroke-linecap:square;stroke-linejoin:miter;stroke-width:0.8;\"/>\n   </g>\n   <g id=\"patch_11\">\n    <path d=\"M 347.191761 157.976036 \nL 600.828125 157.976036 \n\" style=\"fill:none;stroke:#000000;stroke-linecap:square;stroke-linejoin:miter;stroke-width:0.8;\"/>\n   </g>\n   <g id=\"patch_12\">\n    <path d=\"M 347.191761 9.72149 \nL 600.828125 9.72149 \n\" style=\"fill:none;stroke:#000000;stroke-linecap:square;stroke-linejoin:miter;stroke-width:0.8;\"/>\n   </g>\n   <g id=\"legend_2\">\n    <g id=\"patch_13\">\n     <path d=\"M 512.154687 47.07774 \nL 593.828125 47.07774 \nQ 595.828125 47.07774 595.828125 45.07774 \nL 595.828125 16.72149 \nQ 595.828125 14.72149 593.828125 14.72149 \nL 512.154687 14.72149 \nQ 510.154687 14.72149 510.154687 16.72149 \nL 510.154687 45.07774 \nQ 510.154687 47.07774 512.154687 47.07774 \nz\n\" style=\"fill:#ffffff;opacity:0.8;stroke:#cccccc;stroke-linejoin:miter;\"/>\n    </g>\n    <g id=\"line2d_32\">\n     <path d=\"M 514.154687 22.819928 \nL 534.154687 22.819928 \n\" style=\"fill:none;stroke:#1f77b4;stroke-linecap:square;stroke-width:1.5;\"/>\n    </g>\n    <g id=\"line2d_33\"/>\n    <g id=\"text_26\">\n     <!-- Actual -->\n     <g transform=\"translate(542.154687 26.319928)scale(0.1 -0.1)\">\n      <use xlink:href=\"#DejaVuSans-41\"/>\n      <use x=\"66.658203\" xlink:href=\"#DejaVuSans-63\"/>\n      <use x=\"121.638672\" xlink:href=\"#DejaVuSans-74\"/>\n      <use x=\"160.847656\" xlink:href=\"#DejaVuSans-75\"/>\n      <use x=\"224.226562\" xlink:href=\"#DejaVuSans-61\"/>\n      <use x=\"285.505859\" xlink:href=\"#DejaVuSans-6c\"/>\n     </g>\n    </g>\n    <g id=\"line2d_34\">\n     <path d=\"M 514.154687 37.498053 \nL 534.154687 37.498053 \n\" style=\"fill:none;stroke:#ff7f0e;stroke-linecap:square;stroke-width:1.5;\"/>\n    </g>\n    <g id=\"line2d_35\"/>\n    <g id=\"text_27\">\n     <!-- Prediction -->\n     <g transform=\"translate(542.154687 40.998053)scale(0.1 -0.1)\">\n      <use xlink:href=\"#DejaVuSans-50\"/>\n      <use x=\"58.552734\" xlink:href=\"#DejaVuSans-72\"/>\n      <use x=\"97.416016\" xlink:href=\"#DejaVuSans-65\"/>\n      <use x=\"158.939453\" xlink:href=\"#DejaVuSans-64\"/>\n      <use x=\"222.416016\" xlink:href=\"#DejaVuSans-69\"/>\n      <use x=\"250.199219\" xlink:href=\"#DejaVuSans-63\"/>\n      <use x=\"305.179688\" xlink:href=\"#DejaVuSans-74\"/>\n      <use x=\"344.388672\" xlink:href=\"#DejaVuSans-69\"/>\n      <use x=\"372.171875\" xlink:href=\"#DejaVuSans-6f\"/>\n      <use x=\"433.353516\" xlink:href=\"#DejaVuSans-6e\"/>\n     </g>\n    </g>\n   </g>\n  </g>\n  <g id=\"axes_3\">\n   <g id=\"patch_14\">\n    <path d=\"M 42.828125 335.88149 \nL 296.464489 335.88149 \nL 296.464489 187.626945 \nL 42.828125 187.626945 \nz\n\" style=\"fill:#ffffff;\"/>\n   </g>\n   <g id=\"matplotlib.axis_5\">\n    <g id=\"xtick_11\">\n     <g id=\"line2d_36\">\n      <g>\n       <use style=\"stroke:#000000;stroke-width:0.8;\" x=\"54.357051\" xlink:href=\"#md2e70e0370\" y=\"335.88149\"/>\n      </g>\n     </g>\n     <g id=\"text_28\">\n      <!-- 0 -->\n      <g transform=\"translate(51.175801 350.479928)scale(0.1 -0.1)\">\n       <use xlink:href=\"#DejaVuSans-30\"/>\n      </g>\n     </g>\n    </g>\n    <g id=\"xtick_12\">\n     <g id=\"line2d_37\">\n      <g>\n       <use style=\"stroke:#000000;stroke-width:0.8;\" x=\"104.482814\" xlink:href=\"#md2e70e0370\" y=\"335.88149\"/>\n      </g>\n     </g>\n     <g id=\"text_29\">\n      <!-- 5 -->\n      <g transform=\"translate(101.301564 350.479928)scale(0.1 -0.1)\">\n       <use xlink:href=\"#DejaVuSans-35\"/>\n      </g>\n     </g>\n    </g>\n    <g id=\"xtick_13\">\n     <g id=\"line2d_38\">\n      <g>\n       <use style=\"stroke:#000000;stroke-width:0.8;\" x=\"154.608578\" xlink:href=\"#md2e70e0370\" y=\"335.88149\"/>\n      </g>\n     </g>\n     <g id=\"text_30\">\n      <!-- 10 -->\n      <g transform=\"translate(148.246078 350.479928)scale(0.1 -0.1)\">\n       <use xlink:href=\"#DejaVuSans-31\"/>\n       <use x=\"63.623047\" xlink:href=\"#DejaVuSans-30\"/>\n      </g>\n     </g>\n    </g>\n    <g id=\"xtick_14\">\n     <g id=\"line2d_39\">\n      <g>\n       <use style=\"stroke:#000000;stroke-width:0.8;\" x=\"204.734341\" xlink:href=\"#md2e70e0370\" y=\"335.88149\"/>\n      </g>\n     </g>\n     <g id=\"text_31\">\n      <!-- 15 -->\n      <g transform=\"translate(198.371841 350.479928)scale(0.1 -0.1)\">\n       <use xlink:href=\"#DejaVuSans-31\"/>\n       <use x=\"63.623047\" xlink:href=\"#DejaVuSans-35\"/>\n      </g>\n     </g>\n    </g>\n    <g id=\"xtick_15\">\n     <g id=\"line2d_40\">\n      <g>\n       <use style=\"stroke:#000000;stroke-width:0.8;\" x=\"254.860105\" xlink:href=\"#md2e70e0370\" y=\"335.88149\"/>\n      </g>\n     </g>\n     <g id=\"text_32\">\n      <!-- 20 -->\n      <g transform=\"translate(248.497605 350.479928)scale(0.1 -0.1)\">\n       <use xlink:href=\"#DejaVuSans-32\"/>\n       <use x=\"63.623047\" xlink:href=\"#DejaVuSans-30\"/>\n      </g>\n     </g>\n    </g>\n   </g>\n   <g id=\"matplotlib.axis_6\">\n    <g id=\"ytick_14\">\n     <g id=\"line2d_41\">\n      <g>\n       <use style=\"stroke:#000000;stroke-width:0.8;\" x=\"42.828125\" xlink:href=\"#mcfc9ef3340\" y=\"329.142647\"/>\n      </g>\n     </g>\n     <g id=\"text_33\">\n      <!-- 0.00 -->\n      <g transform=\"translate(13.5625 332.941866)scale(0.1 -0.1)\">\n       <use xlink:href=\"#DejaVuSans-30\"/>\n       <use x=\"63.623047\" xlink:href=\"#DejaVuSans-2e\"/>\n       <use x=\"95.410156\" xlink:href=\"#DejaVuSans-30\"/>\n       <use x=\"159.033203\" xlink:href=\"#DejaVuSans-30\"/>\n      </g>\n     </g>\n    </g>\n    <g id=\"ytick_15\">\n     <g id=\"line2d_42\">\n      <g>\n       <use style=\"stroke:#000000;stroke-width:0.8;\" x=\"42.828125\" xlink:href=\"#mcfc9ef3340\" y=\"287.545518\"/>\n      </g>\n     </g>\n     <g id=\"text_34\">\n      <!-- 0.05 -->\n      <g transform=\"translate(13.5625 291.344737)scale(0.1 -0.1)\">\n       <use xlink:href=\"#DejaVuSans-30\"/>\n       <use x=\"63.623047\" xlink:href=\"#DejaVuSans-2e\"/>\n       <use x=\"95.410156\" xlink:href=\"#DejaVuSans-30\"/>\n       <use x=\"159.033203\" xlink:href=\"#DejaVuSans-35\"/>\n      </g>\n     </g>\n    </g>\n    <g id=\"ytick_16\">\n     <g id=\"line2d_43\">\n      <g>\n       <use style=\"stroke:#000000;stroke-width:0.8;\" x=\"42.828125\" xlink:href=\"#mcfc9ef3340\" y=\"245.948389\"/>\n      </g>\n     </g>\n     <g id=\"text_35\">\n      <!-- 0.10 -->\n      <g transform=\"translate(13.5625 249.747608)scale(0.1 -0.1)\">\n       <use xlink:href=\"#DejaVuSans-30\"/>\n       <use x=\"63.623047\" xlink:href=\"#DejaVuSans-2e\"/>\n       <use x=\"95.410156\" xlink:href=\"#DejaVuSans-31\"/>\n       <use x=\"159.033203\" xlink:href=\"#DejaVuSans-30\"/>\n      </g>\n     </g>\n    </g>\n    <g id=\"ytick_17\">\n     <g id=\"line2d_44\">\n      <g>\n       <use style=\"stroke:#000000;stroke-width:0.8;\" x=\"42.828125\" xlink:href=\"#mcfc9ef3340\" y=\"204.35126\"/>\n      </g>\n     </g>\n     <g id=\"text_36\">\n      <!-- 0.15 -->\n      <g transform=\"translate(13.5625 208.150479)scale(0.1 -0.1)\">\n       <use xlink:href=\"#DejaVuSans-30\"/>\n       <use x=\"63.623047\" xlink:href=\"#DejaVuSans-2e\"/>\n       <use x=\"95.410156\" xlink:href=\"#DejaVuSans-31\"/>\n       <use x=\"159.033203\" xlink:href=\"#DejaVuSans-35\"/>\n      </g>\n     </g>\n    </g>\n   </g>\n   <g id=\"line2d_45\">\n    <path clip-path=\"url(#p317ce72372)\" d=\"M 54.357051 307.27579 \nL 64.382203 329.142647 \nL 74.407356 309.574462 \nL 84.432509 194.365788 \nL 94.457661 241.360868 \nL 104.482814 227.195545 \nL 114.507967 253.070344 \nL 124.53312 282.992379 \nL 134.558272 293.896338 \nL 144.583425 283.758603 \nL 154.608578 289.338286 \nL 164.63373 292.462123 \n\" style=\"fill:none;stroke:#1f77b4;stroke-linecap:square;stroke-width:1.5;\"/>\n   </g>\n   <g id=\"line2d_46\">\n    <path clip-path=\"url(#p317ce72372)\" d=\"M 174.658883 288.799933 \nL 184.684036 280.420418 \nL 194.709189 269.592922 \nL 204.734341 257.869623 \nL 214.759494 248.960416 \nL 224.784647 241.116934 \nL 234.809799 240.262254 \nL 244.834952 240.089081 \nL 254.860105 238.105414 \nL 264.885258 233.854948 \nL 274.91041 232.734924 \nL 284.935563 230.951517 \n\" style=\"fill:none;stroke:#ff7f0e;stroke-linecap:square;stroke-width:1.5;\"/>\n   </g>\n   <g id=\"patch_15\">\n    <path d=\"M 42.828125 335.88149 \nL 42.828125 187.626945 \n\" style=\"fill:none;stroke:#000000;stroke-linecap:square;stroke-linejoin:miter;stroke-width:0.8;\"/>\n   </g>\n   <g id=\"patch_16\">\n    <path d=\"M 296.464489 335.88149 \nL 296.464489 187.626945 \n\" style=\"fill:none;stroke:#000000;stroke-linecap:square;stroke-linejoin:miter;stroke-width:0.8;\"/>\n   </g>\n   <g id=\"patch_17\">\n    <path d=\"M 42.828125 335.88149 \nL 296.464489 335.88149 \n\" style=\"fill:none;stroke:#000000;stroke-linecap:square;stroke-linejoin:miter;stroke-width:0.8;\"/>\n   </g>\n   <g id=\"patch_18\">\n    <path d=\"M 42.828125 187.626945 \nL 296.464489 187.626945 \n\" style=\"fill:none;stroke:#000000;stroke-linecap:square;stroke-linejoin:miter;stroke-width:0.8;\"/>\n   </g>\n   <g id=\"legend_3\">\n    <g id=\"patch_19\">\n     <path d=\"M 207.791051 224.983195 \nL 289.464489 224.983195 \nQ 291.464489 224.983195 291.464489 222.983195 \nL 291.464489 194.626945 \nQ 291.464489 192.626945 289.464489 192.626945 \nL 207.791051 192.626945 \nQ 205.791051 192.626945 205.791051 194.626945 \nL 205.791051 222.983195 \nQ 205.791051 224.983195 207.791051 224.983195 \nz\n\" style=\"fill:#ffffff;opacity:0.8;stroke:#cccccc;stroke-linejoin:miter;\"/>\n    </g>\n    <g id=\"line2d_47\">\n     <path d=\"M 209.791051 200.725383 \nL 229.791051 200.725383 \n\" style=\"fill:none;stroke:#1f77b4;stroke-linecap:square;stroke-width:1.5;\"/>\n    </g>\n    <g id=\"line2d_48\"/>\n    <g id=\"text_37\">\n     <!-- Actual -->\n     <g transform=\"translate(237.791051 204.225383)scale(0.1 -0.1)\">\n      <use xlink:href=\"#DejaVuSans-41\"/>\n      <use x=\"66.658203\" xlink:href=\"#DejaVuSans-63\"/>\n      <use x=\"121.638672\" xlink:href=\"#DejaVuSans-74\"/>\n      <use x=\"160.847656\" xlink:href=\"#DejaVuSans-75\"/>\n      <use x=\"224.226562\" xlink:href=\"#DejaVuSans-61\"/>\n      <use x=\"285.505859\" xlink:href=\"#DejaVuSans-6c\"/>\n     </g>\n    </g>\n    <g id=\"line2d_49\">\n     <path d=\"M 209.791051 215.403508 \nL 229.791051 215.403508 \n\" style=\"fill:none;stroke:#ff7f0e;stroke-linecap:square;stroke-width:1.5;\"/>\n    </g>\n    <g id=\"line2d_50\"/>\n    <g id=\"text_38\">\n     <!-- Prediction -->\n     <g transform=\"translate(237.791051 218.903508)scale(0.1 -0.1)\">\n      <use xlink:href=\"#DejaVuSans-50\"/>\n      <use x=\"58.552734\" xlink:href=\"#DejaVuSans-72\"/>\n      <use x=\"97.416016\" xlink:href=\"#DejaVuSans-65\"/>\n      <use x=\"158.939453\" xlink:href=\"#DejaVuSans-64\"/>\n      <use x=\"222.416016\" xlink:href=\"#DejaVuSans-69\"/>\n      <use x=\"250.199219\" xlink:href=\"#DejaVuSans-63\"/>\n      <use x=\"305.179688\" xlink:href=\"#DejaVuSans-74\"/>\n      <use x=\"344.388672\" xlink:href=\"#DejaVuSans-69\"/>\n      <use x=\"372.171875\" xlink:href=\"#DejaVuSans-6f\"/>\n      <use x=\"433.353516\" xlink:href=\"#DejaVuSans-6e\"/>\n     </g>\n    </g>\n   </g>\n  </g>\n  <g id=\"axes_4\">\n   <g id=\"patch_20\">\n    <path d=\"M 347.191761 335.88149 \nL 600.828125 335.88149 \nL 600.828125 187.626945 \nL 347.191761 187.626945 \nz\n\" style=\"fill:#ffffff;\"/>\n   </g>\n   <g id=\"matplotlib.axis_7\">\n    <g id=\"xtick_16\">\n     <g id=\"line2d_51\">\n      <g>\n       <use style=\"stroke:#000000;stroke-width:0.8;\" x=\"358.720687\" xlink:href=\"#md2e70e0370\" y=\"335.88149\"/>\n      </g>\n     </g>\n     <g id=\"text_39\">\n      <!-- 0 -->\n      <g transform=\"translate(355.539437 350.479928)scale(0.1 -0.1)\">\n       <use xlink:href=\"#DejaVuSans-30\"/>\n      </g>\n     </g>\n    </g>\n    <g id=\"xtick_17\">\n     <g id=\"line2d_52\">\n      <g>\n       <use style=\"stroke:#000000;stroke-width:0.8;\" x=\"408.846451\" xlink:href=\"#md2e70e0370\" y=\"335.88149\"/>\n      </g>\n     </g>\n     <g id=\"text_40\">\n      <!-- 5 -->\n      <g transform=\"translate(405.665201 350.479928)scale(0.1 -0.1)\">\n       <use xlink:href=\"#DejaVuSans-35\"/>\n      </g>\n     </g>\n    </g>\n    <g id=\"xtick_18\">\n     <g id=\"line2d_53\">\n      <g>\n       <use style=\"stroke:#000000;stroke-width:0.8;\" x=\"458.972214\" xlink:href=\"#md2e70e0370\" y=\"335.88149\"/>\n      </g>\n     </g>\n     <g id=\"text_41\">\n      <!-- 10 -->\n      <g transform=\"translate(452.609714 350.479928)scale(0.1 -0.1)\">\n       <use xlink:href=\"#DejaVuSans-31\"/>\n       <use x=\"63.623047\" xlink:href=\"#DejaVuSans-30\"/>\n      </g>\n     </g>\n    </g>\n    <g id=\"xtick_19\">\n     <g id=\"line2d_54\">\n      <g>\n       <use style=\"stroke:#000000;stroke-width:0.8;\" x=\"509.097978\" xlink:href=\"#md2e70e0370\" y=\"335.88149\"/>\n      </g>\n     </g>\n     <g id=\"text_42\">\n      <!-- 15 -->\n      <g transform=\"translate(502.735478 350.479928)scale(0.1 -0.1)\">\n       <use xlink:href=\"#DejaVuSans-31\"/>\n       <use x=\"63.623047\" xlink:href=\"#DejaVuSans-35\"/>\n      </g>\n     </g>\n    </g>\n    <g id=\"xtick_20\">\n     <g id=\"line2d_55\">\n      <g>\n       <use style=\"stroke:#000000;stroke-width:0.8;\" x=\"559.223741\" xlink:href=\"#md2e70e0370\" y=\"335.88149\"/>\n      </g>\n     </g>\n     <g id=\"text_43\">\n      <!-- 20 -->\n      <g transform=\"translate(552.861241 350.479928)scale(0.1 -0.1)\">\n       <use xlink:href=\"#DejaVuSans-32\"/>\n       <use x=\"63.623047\" xlink:href=\"#DejaVuSans-30\"/>\n      </g>\n     </g>\n    </g>\n   </g>\n   <g id=\"matplotlib.axis_8\">\n    <g id=\"ytick_18\">\n     <g id=\"line2d_56\">\n      <g>\n       <use style=\"stroke:#000000;stroke-width:0.8;\" x=\"347.191761\" xlink:href=\"#mcfc9ef3340\" y=\"296.262468\"/>\n      </g>\n     </g>\n     <g id=\"text_44\">\n      <!-- 0.1 -->\n      <g transform=\"translate(324.288636 300.061687)scale(0.1 -0.1)\">\n       <use xlink:href=\"#DejaVuSans-30\"/>\n       <use x=\"63.623047\" xlink:href=\"#DejaVuSans-2e\"/>\n       <use x=\"95.410156\" xlink:href=\"#DejaVuSans-31\"/>\n      </g>\n     </g>\n    </g>\n    <g id=\"ytick_19\">\n     <g id=\"line2d_57\">\n      <g>\n       <use style=\"stroke:#000000;stroke-width:0.8;\" x=\"347.191761\" xlink:href=\"#mcfc9ef3340\" y=\"256.119053\"/>\n      </g>\n     </g>\n     <g id=\"text_45\">\n      <!-- 0.2 -->\n      <g transform=\"translate(324.288636 259.918272)scale(0.1 -0.1)\">\n       <use xlink:href=\"#DejaVuSans-30\"/>\n       <use x=\"63.623047\" xlink:href=\"#DejaVuSans-2e\"/>\n       <use x=\"95.410156\" xlink:href=\"#DejaVuSans-32\"/>\n      </g>\n     </g>\n    </g>\n    <g id=\"ytick_20\">\n     <g id=\"line2d_58\">\n      <g>\n       <use style=\"stroke:#000000;stroke-width:0.8;\" x=\"347.191761\" xlink:href=\"#mcfc9ef3340\" y=\"215.975639\"/>\n      </g>\n     </g>\n     <g id=\"text_46\">\n      <!-- 0.3 -->\n      <g transform=\"translate(324.288636 219.774858)scale(0.1 -0.1)\">\n       <defs>\n        <path d=\"M 2597 2516 \nQ 3050 2419 3304 2112 \nQ 3559 1806 3559 1356 \nQ 3559 666 3084 287 \nQ 2609 -91 1734 -91 \nQ 1441 -91 1130 -33 \nQ 819 25 488 141 \nL 488 750 \nQ 750 597 1062 519 \nQ 1375 441 1716 441 \nQ 2309 441 2620 675 \nQ 2931 909 2931 1356 \nQ 2931 1769 2642 2001 \nQ 2353 2234 1838 2234 \nL 1294 2234 \nL 1294 2753 \nL 1863 2753 \nQ 2328 2753 2575 2939 \nQ 2822 3125 2822 3475 \nQ 2822 3834 2567 4026 \nQ 2313 4219 1838 4219 \nQ 1578 4219 1281 4162 \nQ 984 4106 628 3988 \nL 628 4550 \nQ 988 4650 1302 4700 \nQ 1616 4750 1894 4750 \nQ 2613 4750 3031 4423 \nQ 3450 4097 3450 3541 \nQ 3450 3153 3228 2886 \nQ 3006 2619 2597 2516 \nz\n\" id=\"DejaVuSans-33\" transform=\"scale(0.015625)\"/>\n       </defs>\n       <use xlink:href=\"#DejaVuSans-30\"/>\n       <use x=\"63.623047\" xlink:href=\"#DejaVuSans-2e\"/>\n       <use x=\"95.410156\" xlink:href=\"#DejaVuSans-33\"/>\n      </g>\n     </g>\n    </g>\n   </g>\n   <g id=\"line2d_59\">\n    <path clip-path=\"url(#p99ab9fbc4f)\" d=\"M 358.720687 194.365788 \nL 368.74584 248.307464 \nL 378.770992 237.907813 \nL 388.796145 266.717787 \nL 398.821298 306.041174 \nL 408.846451 297.964143 \nL 418.871603 301.576055 \nL 428.896756 308.050952 \nL 438.921909 310.714856 \nL 448.947061 310.667455 \nL 458.972214 326.537116 \nL 468.997367 314.118206 \n\" style=\"fill:none;stroke:#1f77b4;stroke-linecap:square;stroke-width:1.5;\"/>\n   </g>\n   <g id=\"line2d_60\">\n    <path clip-path=\"url(#p99ab9fbc4f)\" d=\"M 479.02252 317.228213 \nL 489.047672 318.271418 \nL 499.072825 319.453059 \nL 509.097978 321.026116 \nL 519.12313 322.692134 \nL 529.148283 324.044543 \nL 539.173436 325.125361 \nL 549.198589 326.097653 \nL 559.223741 326.957571 \nL 569.248894 327.618627 \nL 579.274047 328.306872 \nL 589.299199 329.142647 \n\" style=\"fill:none;stroke:#ff7f0e;stroke-linecap:square;stroke-width:1.5;\"/>\n   </g>\n   <g id=\"patch_21\">\n    <path d=\"M 347.191761 335.88149 \nL 347.191761 187.626945 \n\" style=\"fill:none;stroke:#000000;stroke-linecap:square;stroke-linejoin:miter;stroke-width:0.8;\"/>\n   </g>\n   <g id=\"patch_22\">\n    <path d=\"M 600.828125 335.88149 \nL 600.828125 187.626945 \n\" style=\"fill:none;stroke:#000000;stroke-linecap:square;stroke-linejoin:miter;stroke-width:0.8;\"/>\n   </g>\n   <g id=\"patch_23\">\n    <path d=\"M 347.191761 335.88149 \nL 600.828125 335.88149 \n\" style=\"fill:none;stroke:#000000;stroke-linecap:square;stroke-linejoin:miter;stroke-width:0.8;\"/>\n   </g>\n   <g id=\"patch_24\">\n    <path d=\"M 347.191761 187.626945 \nL 600.828125 187.626945 \n\" style=\"fill:none;stroke:#000000;stroke-linecap:square;stroke-linejoin:miter;stroke-width:0.8;\"/>\n   </g>\n   <g id=\"legend_4\">\n    <g id=\"patch_25\">\n     <path d=\"M 512.154687 224.983195 \nL 593.828125 224.983195 \nQ 595.828125 224.983195 595.828125 222.983195 \nL 595.828125 194.626945 \nQ 595.828125 192.626945 593.828125 192.626945 \nL 512.154687 192.626945 \nQ 510.154687 192.626945 510.154687 194.626945 \nL 510.154687 222.983195 \nQ 510.154687 224.983195 512.154687 224.983195 \nz\n\" style=\"fill:#ffffff;opacity:0.8;stroke:#cccccc;stroke-linejoin:miter;\"/>\n    </g>\n    <g id=\"line2d_61\">\n     <path d=\"M 514.154687 200.725383 \nL 534.154687 200.725383 \n\" style=\"fill:none;stroke:#1f77b4;stroke-linecap:square;stroke-width:1.5;\"/>\n    </g>\n    <g id=\"line2d_62\"/>\n    <g id=\"text_47\">\n     <!-- Actual -->\n     <g transform=\"translate(542.154687 204.225383)scale(0.1 -0.1)\">\n      <use xlink:href=\"#DejaVuSans-41\"/>\n      <use x=\"66.658203\" xlink:href=\"#DejaVuSans-63\"/>\n      <use x=\"121.638672\" xlink:href=\"#DejaVuSans-74\"/>\n      <use x=\"160.847656\" xlink:href=\"#DejaVuSans-75\"/>\n      <use x=\"224.226562\" xlink:href=\"#DejaVuSans-61\"/>\n      <use x=\"285.505859\" xlink:href=\"#DejaVuSans-6c\"/>\n     </g>\n    </g>\n    <g id=\"line2d_63\">\n     <path d=\"M 514.154687 215.403508 \nL 534.154687 215.403508 \n\" style=\"fill:none;stroke:#ff7f0e;stroke-linecap:square;stroke-width:1.5;\"/>\n    </g>\n    <g id=\"line2d_64\"/>\n    <g id=\"text_48\">\n     <!-- Prediction -->\n     <g transform=\"translate(542.154687 218.903508)scale(0.1 -0.1)\">\n      <use xlink:href=\"#DejaVuSans-50\"/>\n      <use x=\"58.552734\" xlink:href=\"#DejaVuSans-72\"/>\n      <use x=\"97.416016\" xlink:href=\"#DejaVuSans-65\"/>\n      <use x=\"158.939453\" xlink:href=\"#DejaVuSans-64\"/>\n      <use x=\"222.416016\" xlink:href=\"#DejaVuSans-69\"/>\n      <use x=\"250.199219\" xlink:href=\"#DejaVuSans-63\"/>\n      <use x=\"305.179688\" xlink:href=\"#DejaVuSans-74\"/>\n      <use x=\"344.388672\" xlink:href=\"#DejaVuSans-69\"/>\n      <use x=\"372.171875\" xlink:href=\"#DejaVuSans-6f\"/>\n      <use x=\"433.353516\" xlink:href=\"#DejaVuSans-6e\"/>\n     </g>\n    </g>\n   </g>\n  </g>\n </g>\n <defs>\n  <clipPath id=\"p2be1f913f4\">\n   <rect height=\"148.254545\" width=\"253.636364\" x=\"42.828125\" y=\"9.72149\"/>\n  </clipPath>\n  <clipPath id=\"pfc87848282\">\n   <rect height=\"148.254545\" width=\"253.636364\" x=\"347.191761\" y=\"9.72149\"/>\n  </clipPath>\n  <clipPath id=\"p317ce72372\">\n   <rect height=\"148.254545\" width=\"253.636364\" x=\"42.828125\" y=\"187.626945\"/>\n  </clipPath>\n  <clipPath id=\"p99ab9fbc4f\">\n   <rect height=\"148.254545\" width=\"253.636364\" x=\"347.191761\" y=\"187.626945\"/>\n  </clipPath>\n </defs>\n</svg>\n",
      "image/png": "[encoded data removed]"
     },
     "metadata": {
      "needs_background": "light"
     }
    }
   ],
   "source": [
    "\n",
    "import matplotlib.pyplot as plt\n",
    "\n",
    "plt.figure(figsize=(10, 6))\n",
    "for iapi in range(4):\n",
    "    plt.subplot(2, 2, iapi+1)\n",
    "    plt.plot(np.arange(x_tst.shape[1]), x_tst[iapi, :, 0], label='Actual')\n",
    "    plt.plot(np.arange(predicts.shape[1])+x_tst.shape[1], predicts[iapi, :, 0], label='Prediction')\n",
    "    plt.legend()\n",
    "plt.show()"
   ],
   "metadata": {
    "collapsed": false,
    "pycharm": {
     "name": "#%%\n"
    }
   }
  },
  {
   "cell_type": "code",
   "execution_count": 18,
   "outputs": [
    {
     "output_type": "stream",
     "name": "stdout",
     "text": [
      "1412\n"
     ]
    }
   ],
   "source": [
    "# 3. Из этого же текста возьмите небольшой фрагмент, разбейте на предложения с одинаковым числом символов. Каждый символ предложения закодируйте с помощью one hot encoding. В итоге у вас должен получиться массив размера (n_sentences, sentence_len, encoding_size).\n",
    "import tensorflow as tf\n",
    "\n",
    "\n",
    "sentence_len = 30\n",
    "encoding_size = 33\n",
    "symbols = []\n",
    "for sentence in sentences:\n",
    "    join_sentence = ''.join(sentence)\n",
    "    join_sentence = re.sub(r'[^а-я]', \"\", join_sentence)\n",
    "    if len(join_sentence) >= sentence_len:\n",
    "        idxs = np.array([ord(char) - ord('а') for char in join_sentence])\n",
    "        one_hot = tf.one_hot(idxs[:sentence_len], encoding_size)\n",
    "        symbols.append(one_hot)\n",
    "\n",
    "print(len(symbols))"
   ],
   "metadata": {
    "collapsed": false,
    "pycharm": {
     "name": "#%%\n"
    }
   }
  },
  {
   "cell_type": "code",
   "execution_count": 19,
   "outputs": [],
   "source": [
    "N_tr = 2 * len(symbols) // 3\n",
    "tr_data = symbols[:N_tr]\n",
    "test_data = symbols[N_tr:]"
   ],
   "metadata": {
    "collapsed": false,
    "pycharm": {
     "name": "#%%\n"
    }
   }
  },
  {
   "cell_type": "code",
   "execution_count": 20,
   "outputs": [
    {
     "output_type": "stream",
     "name": "stdout",
     "text": [
      "(941, 29, 33) (941, 33)\n"
     ]
    }
   ],
   "source": [
    "from tensorflow.keras.utils import to_categorical\n",
    "# train_x = np.array([sentence[:-1] for sentence in tr_data])\n",
    "# train_y = np.array([sentence[-1:] for sentence in tr_data])\n",
    "#\n",
    "# print(train_x.shape, train_y.shape)\n",
    "#\n",
    "# test_x = np.array([sentence[:-1] for sentence in test_data])\n",
    "# test_y = np.array([sentence[-1:] for sentence in test_data])\n",
    "train_x = np.array([sentence[:-1] for sentence in tr_data])\n",
    "train_y = np.array([sentence[-1] for sentence in tr_data])\n",
    "\n",
    "print(train_x.shape, train_y.shape)\n",
    "\n",
    "test_x = np.array([sentence[:-1] for sentence in test_data])\n",
    "test_y = np.array([sentence[-1] for sentence in test_data])\n",
    "\n",
    "# train_y = to_categorical(train_y)"
   ],
   "metadata": {
    "collapsed": false,
    "pycharm": {
     "name": "#%%\n"
    }
   }
  },
  {
   "cell_type": "code",
   "execution_count": 21,
   "outputs": [
    {
     "output_type": "stream",
     "name": "stdout",
     "text": [
      "Model: \"model_1\"\n_________________________________________________________________\nLayer (type)                 Output Shape              Param #   \n=================================================================\ninput_2 (InputLayer)         [(None, 29, 33)]          0         \n_________________________________________________________________\nlstm_2 (LSTM)                (None, 128)               82944     \n_________________________________________________________________\ndense_1 (Dense)              (None, 33)                4257      \n=================================================================\nTotal params: 87,201\nTrainable params: 87,201\nNon-trainable params: 0\n_________________________________________________________________\n"
     ]
    }
   ],
   "source": [
    "inp = Input(shape=train_x[0].shape)\n",
    "lstm = LSTM(units=128)(inp)\n",
    "out = Dense(encoding_size, activation=\"softmax\")(lstm)\n",
    "\n",
    "symbols_model = Model(inp, out)\n",
    "symbols_model.summary()\n",
    "symbols_model.compile(optimizer='adam', loss='categorical_crossentropy')"
   ],
   "metadata": {
    "collapsed": false,
    "pycharm": {
     "name": "#%%\n"
    }
   }
  },
  {
   "cell_type": "code",
   "execution_count": 22,
   "outputs": [
    {
     "output_type": "stream",
     "name": "stdout",
     "text": [
      "Epoch 1/40\n",
      "30/30 [==============================] - 3s 29ms/step - loss: 3.4230\n",
      "Epoch 2/40\n",
      "30/30 [==============================] - 1s 28ms/step - loss: 3.1237\n",
      "Epoch 3/40\n",
      "30/30 [==============================] - 1s 31ms/step - loss: 3.1231\n",
      "Epoch 4/40\n",
      "30/30 [==============================] - 1s 30ms/step - loss: 3.0953\n",
      "Epoch 5/40\n",
      "30/30 [==============================] - 1s 28ms/step - loss: 3.1294\n",
      "Epoch 6/40\n",
      "30/30 [==============================] - 1s 28ms/step - loss: 3.0503\n",
      "Epoch 7/40\n",
      "30/30 [==============================] - 1s 28ms/step - loss: 3.0581\n",
      "Epoch 8/40\n",
      "30/30 [==============================] - 1s 28ms/step - loss: 3.0282\n",
      "Epoch 9/40\n",
      "30/30 [==============================] - 1s 28ms/step - loss: 3.0419\n",
      "Epoch 10/40\n",
      "30/30 [==============================] - 1s 28ms/step - loss: 3.0121\n",
      "Epoch 11/40\n",
      "30/30 [==============================] - 1s 29ms/step - loss: 2.9920\n",
      "Epoch 12/40\n",
      "30/30 [==============================] - 1s 28ms/step - loss: 2.9546\n",
      "Epoch 13/40\n",
      "30/30 [==============================] - 1s 29ms/step - loss: 2.8820\n",
      "Epoch 14/40\n",
      "30/30 [==============================] - 1s 30ms/step - loss: 2.8447\n",
      "Epoch 15/40\n",
      "30/30 [==============================] - 1s 28ms/step - loss: 2.8418\n",
      "Epoch 16/40\n",
      "30/30 [==============================] - 1s 30ms/step - loss: 2.8098\n",
      "Epoch 17/40\n",
      "30/30 [==============================] - 1s 30ms/step - loss: 2.7319\n",
      "Epoch 18/40\n",
      "30/30 [==============================] - 1s 31ms/step - loss: 2.6508\n",
      "Epoch 19/40\n",
      "30/30 [==============================] - 1s 30ms/step - loss: 2.6045\n",
      "Epoch 20/40\n",
      "30/30 [==============================] - 1s 29ms/step - loss: 2.5472\n",
      "Epoch 21/40\n",
      "30/30 [==============================] - 1s 29ms/step - loss: 2.5429\n",
      "Epoch 22/40\n",
      "30/30 [==============================] - 1s 29ms/step - loss: 2.4803\n",
      "Epoch 23/40\n",
      "30/30 [==============================] - 1s 29ms/step - loss: 2.4422\n",
      "Epoch 24/40\n",
      "30/30 [==============================] - 1s 28ms/step - loss: 2.3885\n",
      "Epoch 25/40\n",
      "30/30 [==============================] - 1s 30ms/step - loss: 2.3634\n",
      "Epoch 26/40\n",
      "30/30 [==============================] - 1s 28ms/step - loss: 2.2885\n",
      "Epoch 27/40\n",
      "30/30 [==============================] - 1s 28ms/step - loss: 2.1814\n",
      "Epoch 28/40\n",
      "30/30 [==============================] - 1s 29ms/step - loss: 2.0725\n",
      "Epoch 29/40\n",
      "30/30 [==============================] - 1s 29ms/step - loss: 2.0306\n",
      "Epoch 30/40\n",
      "30/30 [==============================] - 1s 28ms/step - loss: 1.9457\n",
      "Epoch 31/40\n",
      "30/30 [==============================] - 1s 29ms/step - loss: 1.8743\n",
      "Epoch 32/40\n",
      "30/30 [==============================] - 1s 29ms/step - loss: 1.6767\n",
      "Epoch 33/40\n",
      "30/30 [==============================] - 1s 29ms/step - loss: 1.6423\n",
      "Epoch 34/40\n",
      "30/30 [==============================] - 1s 28ms/step - loss: 1.5534\n",
      "Epoch 35/40\n",
      "30/30 [==============================] - 1s 31ms/step - loss: 1.3835\n",
      "Epoch 36/40\n",
      "30/30 [==============================] - 1s 30ms/step - loss: 1.2961\n",
      "Epoch 37/40\n",
      "30/30 [==============================] - 1s 29ms/step - loss: 1.1225\n",
      "Epoch 38/40\n",
      "30/30 [==============================] - 1s 29ms/step - loss: 1.0462\n",
      "Epoch 39/40\n",
      "30/30 [==============================] - 1s 29ms/step - loss: 0.9553\n",
      "Epoch 40/40\n",
      "30/30 [==============================] - 1s 29ms/step - loss: 0.8244\n"
     ]
    },
    {
     "output_type": "execute_result",
     "data": {
      "text/plain": [
       "<tensorflow.python.keras.callbacks.History at 0x7fb6563d82e0>"
      ]
     },
     "metadata": {},
     "execution_count": 22
    }
   ],
   "source": [
    "symbols_model.fit(train_x, train_y, epochs=40)"
   ],
   "metadata": {
    "collapsed": false,
    "pycharm": {
     "name": "#%%\n",
     "is_executing": true
    }
   }
  },
  {
   "cell_type": "code",
   "execution_count": 25,
   "metadata": {},
   "outputs": [
    {
     "output_type": "stream",
     "name": "stdout",
     "text": [
      "[0.26188526, 0.6963486, 0.52066165, 0.5539427, 0.16782197, 0.20757094, 0.4546588, 0.24000053, 0.6654191, 0.40187028, 0.2671418, 0.2886211, 0.618721, 0.36223748, 0.3020389, 0.25937375, 0.36702982, 0.7750467, 0.3136113, 0.5796729, 0.215528, 0.4587501, 0.22369337, 0.60591906, 0.6265481, 0.28316623, 0.54135704, 0.1466574, 0.56526214, 0.27062044, 0.2854898, 0.18247227, 0.20011774, 0.32585403, 0.3297522, 0.3492694, 0.51719904, 0.4688562, 0.6528541, 0.5386096, 0.2627385, 0.5389189, 0.32875398, 0.24490504, 0.2966268, 0.7702553, 0.44657636, 0.27653947, 0.26743516, 0.11212319, 0.33428743, 0.1727, 0.27148163, 0.14485793, 0.691964, 0.46045825, 0.30744877, 0.23165391, 0.5537077, 0.11480423, 0.38644513, 0.1894556, 0.19307402, 0.37919915, 0.7987607, 0.35653225, 0.26513234, 0.21801913, 0.36470684, 0.70606476, 0.24275209, 0.2709865, 0.110574566, 0.34251037, 0.17184564, 0.20986797, 0.79761565, 0.20628986, 0.21966211, 0.23365249, 0.93952405, 0.37382162, 0.31439528, 0.36007836, 0.7511016, 0.61071503, 0.48123917, 0.20490697, 0.12133528, 0.27459222, 0.3717336, 0.36481515, 0.57604873, 0.23432648, 0.32931104, 0.07344609, 0.4796717, 0.40123424, 0.5055573, 0.41155878, 0.6031232, 0.22396414, 0.20175837, 0.23220965, 0.43235406, 0.34899083, 0.44794658, 0.16960198, 0.75659794, 0.4022846, 0.38674667, 0.35492623, 0.25030145, 0.40593296, 0.278891, 0.57948476, 0.39197534, 0.6852798, 0.4488007, 0.11033616, 0.6488968, 0.31234667, 0.15460066, 0.64623207, 0.2250727, 0.2210761, 0.77809227, 0.32854518, 0.4368029, 0.17746572, 0.20335361, 0.14440976, 0.30596393, 0.3400022, 0.23549442, 0.23791036, 0.46437195, 0.26054895, 0.5009412, 0.5567523, 0.108398065, 0.28758702, 0.21510416, 0.10417941, 0.47976482, 0.26574987, 0.32836062, 0.35938463, 0.74711716, 0.16022864, 0.27057785, 0.18065052, 0.43879443, 0.413926, 0.46903098, 0.334444, 0.6576014, 0.7133111, 0.5386245, 0.5984352, 0.299111, 0.60970604, 0.3582669, 0.21623285, 0.48418355, 0.7083156, 0.69585353, 0.58834004, 0.29884955, 0.36924675, 0.45185727, 0.20664246, 0.36354482, 0.7603929, 0.64140195, 0.1919019, 0.48054078, 0.2116262, 0.23017527, 0.4136281, 0.3217957, 0.42312828, 0.40788084, 0.35728684, 0.22531803, 0.4288459, 0.216603, 0.19911437, 0.3112484, 0.18250625, 0.26182082, 0.23003878, 0.36039078, 0.51748616, 0.17163542, 0.8578437, 0.16280642, 0.27822912, 0.32194364, 0.6103963, 0.20577554, 0.61227155, 0.20457774, 0.09699489, 0.0126496395, 0.26401025, 0.34362614, 0.2897115, 0.43425775, 0.69362956, 0.09239766, 0.3089372, 0.5921348, 0.27285138, 0.15577056, 0.6999837, 0.10828646, 0.33237046, 0.23822713, 0.6698648, 0.27471268, 0.22498307, 0.23998405, 0.25885114, 0.3031767, 0.44061294, 0.49840325, 0.4408035, 0.54252476, 0.7291791, 0.18870512, 0.17778797, 0.33207327, 0.6993097, 0.29721752, 0.89896613, 0.41326013, 0.21797869, 0.33975923, 0.67509544, 0.21505919, 0.56018794, 0.39909932, 0.33115408, 0.21339802, 0.36551085, 0.34027258, 0.5869843, 0.31989995, 0.4109115, 0.7690144, 0.4889428, 0.30421618, 0.24216063, 0.6837601, 0.3332732, 0.42957485, 0.9369801, 0.72684383, 0.2800647, 0.86513215, 0.42108813, 0.8309964, 0.8055475, 0.6443965, 0.14337435, 0.21864554, 0.63388485, 0.31252742, 0.4959098, 0.28650948, 0.16237119, 0.25915813, 0.24153467, 0.24343759, 0.38328698, 0.63908774, 0.43711802, 0.38529542, 0.25130853, 0.3744714, 0.9397313, 0.22951767, 0.40700543, 0.17160161, 0.39722854, 0.54344326, 0.22987278, 0.37358162, 0.08346431, 0.3364384, 0.063143305, 0.1918606, 0.28212053, 0.20284638, 0.4315179, 0.28840068, 0.44572142, 0.19789855, 0.23681806, 0.24200948, 0.86254525, 0.7793802, 0.2724406, 0.384821, 0.22547624, 0.30941087, 0.13707514, 0.26446968, 0.29386035, 0.43517917, 0.34777775, 0.33566839, 0.44059074, 0.45472035, 0.46022493, 0.37089643, 0.6587975, 0.17462973, 0.53706175, 0.21569191, 0.3053314, 0.37270802, 0.15604812, 0.5092589, 0.27266213, 0.32800093, 0.5172929, 0.6931914, 0.41609472, 0.3076803, 0.40329733, 0.6047971, 0.3052579, 0.36112595, 0.339527, 0.1936218, 0.27266854, 0.432624, 0.23867078, 0.24532431, 0.26147872, 0.44288346, 0.72128224, 0.08778462, 0.44613093, 0.2658541, 0.24358921, 0.8509471, 0.41378775, 0.57815325, 0.3086552, 0.31418025, 0.28237626, 0.30410916, 0.22299841, 0.46300256, 0.37811372, 0.203606, 0.2815698, 0.18042526, 0.5969818, 0.45329607, 0.6582747, 0.40256417, 0.4526771, 0.67442447, 0.45400795, 0.029379578, 0.7057699, 0.27964061, 0.17235532, 0.7451594, 0.5464526, 0.2782512, 0.384246, 0.31775498, 0.323152, 0.24942881, 0.3615197, 0.21862671, 0.50532424, 0.20326753, 0.55903363, 0.31369638, 0.2401328, 0.28210863, 0.27400205, 0.231042, 0.44803774, 0.20723127, 0.54401594, 0.25721705, 0.15170619, 0.33462703, 0.20526437, 0.24634153, 0.89462817, 0.76298875, 0.6707806, 0.4077933, 0.15968084, 0.29107338, 0.19377574, 0.87887305, 0.80238754, 0.29747465, 0.116953954, 0.7938422, 0.83691674, 0.12663326, 0.27733994, 0.3706694, 0.27566552, 0.24917553, 0.17447515, 0.19038543, 0.3889007, 0.27505457, 0.42577553, 0.27182528, 0.22270411, 0.12931915, 0.49751976, 0.22604662, 0.7880303, 0.22632584, 0.5219085, 0.36003554, 0.74834174, 0.5813662, 0.7380717, 0.2746275, 0.60748136, 0.3570519, 0.5472241, 0.5362348, 0.13475348, 0.2216478, 0.52066106, 0.5587855, 0.27553034, 0.36574078, 0.7503182, 0.3291476, 0.8905805, 0.44663516, 0.29493737, 0.32990715, 0.367048, 0.24652588, 0.6048442, 0.68951744, 0.7840605, 0.21257985, 0.8095887, 0.29584387, 0.5042987, 0.4739251, 0.4224059, 0.3985153, 0.40017158, 0.90863043, 0.26095277, 0.16833112, 0.20345418, 0.18412267, 0.23634689, 0.24931058, 0.30160472, 0.15886964]\n"
     ]
    }
   ],
   "source": [
    "predict_chars = symbols_model.predict(test_x)\n",
    "accuracy = []\n",
    "for i, char in enumerate(predict_chars):\n",
    "    accuracy.append(np.amax(char-test_y[i]))\n",
    "print(accuracy)"
   ]
  }
 ],
 "metadata": {
  "kernelspec": {
   "name": "python385jvsc74a57bd080626859914b8d17875f7bd468b1a8869e49315ffadcb9a1c0c79a64146be9ce",
   "display_name": "Python 3.8.5 64-bit ('venv')"
  },
  "language_info": {
   "codemirror_mode": {
    "name": "ipython",
    "version": 2
   },
   "file_extension": ".py",
   "mimetype": "text/x-python",
   "name": "python",
   "nbconvert_exporter": "python",
   "pygments_lexer": "ipython2",
   "version": "3.8.5-final"
  }
 },
 "nbformat": 4,
 "nbformat_minor": 0
}